{
  "cells": [
    {
      "cell_type": "code",
      "execution_count": 53,
      "metadata": {
        "id": "Yv5evR766nFQ"
      },
      "outputs": [],
      "source": [
        "import pandas as pd\n",
        "import numpy as np"
      ]
    },
    {
      "cell_type": "code",
      "execution_count": 54,
      "metadata": {
        "id": "7fXVRy8M7D4D"
      },
      "outputs": [],
      "source": [
        "data = pd.read_csv('D2_Grades_Dataset.csv')"
      ]
    },
    {
      "cell_type": "code",
      "execution_count": 55,
      "metadata": {
        "colab": {
          "base_uri": "https://localhost:8080/",
          "height": 384
        },
        "id": "z-3zUddc7tvI",
        "outputId": "3a08b713-ba9d-4617-b0f4-e81537236b2b"
      },
      "outputs": [
        {
          "data": {
            "text/html": [
              "<div>\n",
              "<style scoped>\n",
              "    .dataframe tbody tr th:only-of-type {\n",
              "        vertical-align: middle;\n",
              "    }\n",
              "\n",
              "    .dataframe tbody tr th {\n",
              "        vertical-align: top;\n",
              "    }\n",
              "\n",
              "    .dataframe thead th {\n",
              "        text-align: right;\n",
              "    }\n",
              "</style>\n",
              "<table border=\"1\" class=\"dataframe\">\n",
              "  <thead>\n",
              "    <tr style=\"text-align: right;\">\n",
              "      <th></th>\n",
              "      <th>Seat No.</th>\n",
              "      <th>PH-121</th>\n",
              "      <th>HS-101</th>\n",
              "      <th>CY-105</th>\n",
              "      <th>HS-105/12</th>\n",
              "      <th>MT-111</th>\n",
              "      <th>CS-105</th>\n",
              "      <th>CS-106</th>\n",
              "      <th>EL-102</th>\n",
              "      <th>EE-119</th>\n",
              "      <th>...</th>\n",
              "      <th>CS-312</th>\n",
              "      <th>CS-317</th>\n",
              "      <th>CS-403</th>\n",
              "      <th>CS-421</th>\n",
              "      <th>CS-406</th>\n",
              "      <th>CS-414</th>\n",
              "      <th>CS-419</th>\n",
              "      <th>CS-423</th>\n",
              "      <th>CS-412</th>\n",
              "      <th>CGPA</th>\n",
              "    </tr>\n",
              "  </thead>\n",
              "  <tbody>\n",
              "    <tr>\n",
              "      <th>0</th>\n",
              "      <td>CS-97001</td>\n",
              "      <td>B-</td>\n",
              "      <td>D+</td>\n",
              "      <td>C-</td>\n",
              "      <td>C</td>\n",
              "      <td>C-</td>\n",
              "      <td>D+</td>\n",
              "      <td>D</td>\n",
              "      <td>C-</td>\n",
              "      <td>B-</td>\n",
              "      <td>...</td>\n",
              "      <td>C-</td>\n",
              "      <td>C-</td>\n",
              "      <td>C-</td>\n",
              "      <td>C-</td>\n",
              "      <td>A-</td>\n",
              "      <td>A</td>\n",
              "      <td>C-</td>\n",
              "      <td>B</td>\n",
              "      <td>A-</td>\n",
              "      <td>2.205</td>\n",
              "    </tr>\n",
              "    <tr>\n",
              "      <th>1</th>\n",
              "      <td>CS-97002</td>\n",
              "      <td>A</td>\n",
              "      <td>D</td>\n",
              "      <td>D+</td>\n",
              "      <td>D</td>\n",
              "      <td>B-</td>\n",
              "      <td>C</td>\n",
              "      <td>D</td>\n",
              "      <td>A</td>\n",
              "      <td>D+</td>\n",
              "      <td>...</td>\n",
              "      <td>D+</td>\n",
              "      <td>D</td>\n",
              "      <td>C</td>\n",
              "      <td>D</td>\n",
              "      <td>A-</td>\n",
              "      <td>B-</td>\n",
              "      <td>C</td>\n",
              "      <td>C</td>\n",
              "      <td>B</td>\n",
              "      <td>2.008</td>\n",
              "    </tr>\n",
              "    <tr>\n",
              "      <th>2</th>\n",
              "      <td>CS-97003</td>\n",
              "      <td>A</td>\n",
              "      <td>B</td>\n",
              "      <td>A</td>\n",
              "      <td>B-</td>\n",
              "      <td>B+</td>\n",
              "      <td>A</td>\n",
              "      <td>B-</td>\n",
              "      <td>B+</td>\n",
              "      <td>A-</td>\n",
              "      <td>...</td>\n",
              "      <td>B</td>\n",
              "      <td>B</td>\n",
              "      <td>A</td>\n",
              "      <td>C</td>\n",
              "      <td>A</td>\n",
              "      <td>A</td>\n",
              "      <td>A</td>\n",
              "      <td>A-</td>\n",
              "      <td>A</td>\n",
              "      <td>3.608</td>\n",
              "    </tr>\n",
              "    <tr>\n",
              "      <th>3</th>\n",
              "      <td>CS-97004</td>\n",
              "      <td>D</td>\n",
              "      <td>C+</td>\n",
              "      <td>D+</td>\n",
              "      <td>D</td>\n",
              "      <td>D</td>\n",
              "      <td>A-</td>\n",
              "      <td>D+</td>\n",
              "      <td>C-</td>\n",
              "      <td>D</td>\n",
              "      <td>...</td>\n",
              "      <td>D+</td>\n",
              "      <td>C</td>\n",
              "      <td>D+</td>\n",
              "      <td>C-</td>\n",
              "      <td>B-</td>\n",
              "      <td>B</td>\n",
              "      <td>C+</td>\n",
              "      <td>C+</td>\n",
              "      <td>C+</td>\n",
              "      <td>1.906</td>\n",
              "    </tr>\n",
              "    <tr>\n",
              "      <th>4</th>\n",
              "      <td>CS-97005</td>\n",
              "      <td>A-</td>\n",
              "      <td>A-</td>\n",
              "      <td>A-</td>\n",
              "      <td>B+</td>\n",
              "      <td>A</td>\n",
              "      <td>A</td>\n",
              "      <td>A-</td>\n",
              "      <td>B+</td>\n",
              "      <td>A</td>\n",
              "      <td>...</td>\n",
              "      <td>B-</td>\n",
              "      <td>B+</td>\n",
              "      <td>B+</td>\n",
              "      <td>B-</td>\n",
              "      <td>A-</td>\n",
              "      <td>A</td>\n",
              "      <td>A-</td>\n",
              "      <td>A-</td>\n",
              "      <td>A</td>\n",
              "      <td>3.448</td>\n",
              "    </tr>\n",
              "  </tbody>\n",
              "</table>\n",
              "<p>5 rows × 43 columns</p>\n",
              "</div>"
            ],
            "text/plain": [
              "   Seat No. PH-121 HS-101 CY-105 HS-105/12 MT-111 CS-105 CS-106 EL-102 EE-119  \\\n",
              "0  CS-97001     B-     D+     C-         C     C-     D+      D     C-     B-   \n",
              "1  CS-97002      A      D     D+         D     B-      C      D      A     D+   \n",
              "2  CS-97003      A      B      A        B-     B+      A     B-     B+     A-   \n",
              "3  CS-97004      D     C+     D+         D      D     A-     D+     C-      D   \n",
              "4  CS-97005     A-     A-     A-        B+      A      A     A-     B+      A   \n",
              "\n",
              "   ... CS-312 CS-317 CS-403 CS-421 CS-406 CS-414 CS-419 CS-423 CS-412   CGPA  \n",
              "0  ...     C-     C-     C-     C-     A-      A     C-      B     A-  2.205  \n",
              "1  ...     D+      D      C      D     A-     B-      C      C      B  2.008  \n",
              "2  ...      B      B      A      C      A      A      A     A-      A  3.608  \n",
              "3  ...     D+      C     D+     C-     B-      B     C+     C+     C+  1.906  \n",
              "4  ...     B-     B+     B+     B-     A-      A     A-     A-      A  3.448  \n",
              "\n",
              "[5 rows x 43 columns]"
            ]
          },
          "execution_count": 55,
          "metadata": {},
          "output_type": "execute_result"
        }
      ],
      "source": [
        "data.head()"
      ]
    },
    {
      "cell_type": "code",
      "execution_count": 56,
      "metadata": {
        "colab": {
          "base_uri": "https://localhost:8080/"
        },
        "id": "m4bh5wPR7tqJ",
        "outputId": "37d32706-18e1-4f56-db37-d64815a4fd9d"
      },
      "outputs": [
        {
          "data": {
            "text/plain": [
              "Index(['Seat No.', 'PH-121', 'HS-101', 'CY-105', 'HS-105/12', 'MT-111',\n",
              "       'CS-105', 'CS-106', 'EL-102', 'EE-119', 'ME-107', 'CS-107', 'HS-205/20',\n",
              "       'MT-222', 'EE-222', 'MT-224', 'CS-210', 'CS-211', 'CS-203', 'CS-214',\n",
              "       'EE-217', 'CS-212', 'CS-215', 'MT-331', 'EF-303', 'HS-304', 'CS-301',\n",
              "       'CS-302', 'TC-383', 'MT-442', 'EL-332', 'CS-318', 'CS-306', 'CS-312',\n",
              "       'CS-317', 'CS-403', 'CS-421', 'CS-406', 'CS-414', 'CS-419', 'CS-423',\n",
              "       'CS-412', 'CGPA'],\n",
              "      dtype='object')"
            ]
          },
          "execution_count": 56,
          "metadata": {},
          "output_type": "execute_result"
        }
      ],
      "source": [
        "columns = data.columns\n",
        "columns"
      ]
    },
    {
      "cell_type": "code",
      "execution_count": 57,
      "metadata": {
        "colab": {
          "base_uri": "https://localhost:8080/"
        },
        "id": "f0Aw8EK87tk9",
        "outputId": "3418bbc1-62d8-483a-f52f-47deb04c2a74"
      },
      "outputs": [
        {
          "data": {
            "text/plain": [
              "(571, 43)"
            ]
          },
          "execution_count": 57,
          "metadata": {},
          "output_type": "execute_result"
        }
      ],
      "source": [
        "data.shape"
      ]
    },
    {
      "cell_type": "code",
      "execution_count": 58,
      "metadata": {
        "colab": {
          "base_uri": "https://localhost:8080/"
        },
        "id": "1tAe3RH57tZP",
        "outputId": "a2e9964e-fe8d-4908-bcb3-fe06d50fd6c4"
      },
      "outputs": [
        {
          "data": {
            "text/plain": [
              "Seat No.      0\n",
              "PH-121        0\n",
              "HS-101        0\n",
              "CY-105        1\n",
              "HS-105/12     1\n",
              "MT-111        2\n",
              "CS-105        0\n",
              "CS-106        2\n",
              "EL-102        2\n",
              "EE-119        2\n",
              "ME-107        2\n",
              "CS-107        2\n",
              "HS-205/20     5\n",
              "MT-222        5\n",
              "EE-222        7\n",
              "MT-224        7\n",
              "CS-210        7\n",
              "CS-211        5\n",
              "CS-203        5\n",
              "CS-214        6\n",
              "EE-217        6\n",
              "CS-212        6\n",
              "CS-215        6\n",
              "MT-331        9\n",
              "EF-303       10\n",
              "HS-304       10\n",
              "CS-301       10\n",
              "CS-302       10\n",
              "TC-383       10\n",
              "MT-442       10\n",
              "EL-332        9\n",
              "CS-318        9\n",
              "CS-306        9\n",
              "CS-312       10\n",
              "CS-317       12\n",
              "CS-403       12\n",
              "CS-421       12\n",
              "CS-406       85\n",
              "CS-414       13\n",
              "CS-419       13\n",
              "CS-423       14\n",
              "CS-412       79\n",
              "CGPA          0\n",
              "dtype: int64"
            ]
          },
          "execution_count": 58,
          "metadata": {},
          "output_type": "execute_result"
        }
      ],
      "source": [
        "data.isnull().sum()"
      ]
    },
    {
      "cell_type": "code",
      "execution_count": 59,
      "metadata": {
        "id": "VsRwQthz7_6N"
      },
      "outputs": [],
      "source": [
        "# for filling the missing values we can take the mode of grades for each course,\n",
        "# because it is more likely th a person can get a grade which is getting by the majority of students\n",
        "\n",
        "# Since majority of courses has missing values, so data is noisy. We can remove the \n",
        "# missing values by simply removing them, but since we already have less dataset, we cant remove them\n",
        "# instead we replace these null values with mode of each column"
      ]
    },
    {
      "cell_type": "code",
      "execution_count": 60,
      "metadata": {
        "id": "WFMqwRDu7_2b"
      },
      "outputs": [],
      "source": [
        "features_with_null = [features for features in data if data[features].isnull().sum()]  # list will return with features that have null values\n",
        "for each_feature in features_with_null:\n",
        "    data[each_feature] = data[each_feature].fillna(data[each_feature].mode()[0])"
      ]
    },
    {
      "cell_type": "code",
      "execution_count": 61,
      "metadata": {
        "colab": {
          "base_uri": "https://localhost:8080/"
        },
        "id": "PXnXTW1Q7_zU",
        "outputId": "0b9e4b36-27d2-45db-f087-7b72e0ba790b"
      },
      "outputs": [
        {
          "data": {
            "text/plain": [
              "Seat No.     0\n",
              "PH-121       0\n",
              "HS-101       0\n",
              "CY-105       0\n",
              "HS-105/12    0\n",
              "MT-111       0\n",
              "CS-105       0\n",
              "CS-106       0\n",
              "EL-102       0\n",
              "EE-119       0\n",
              "ME-107       0\n",
              "CS-107       0\n",
              "HS-205/20    0\n",
              "MT-222       0\n",
              "EE-222       0\n",
              "MT-224       0\n",
              "CS-210       0\n",
              "CS-211       0\n",
              "CS-203       0\n",
              "CS-214       0\n",
              "EE-217       0\n",
              "CS-212       0\n",
              "CS-215       0\n",
              "MT-331       0\n",
              "EF-303       0\n",
              "HS-304       0\n",
              "CS-301       0\n",
              "CS-302       0\n",
              "TC-383       0\n",
              "MT-442       0\n",
              "EL-332       0\n",
              "CS-318       0\n",
              "CS-306       0\n",
              "CS-312       0\n",
              "CS-317       0\n",
              "CS-403       0\n",
              "CS-421       0\n",
              "CS-406       0\n",
              "CS-414       0\n",
              "CS-419       0\n",
              "CS-423       0\n",
              "CS-412       0\n",
              "CGPA         0\n",
              "dtype: int64"
            ]
          },
          "execution_count": 61,
          "metadata": {},
          "output_type": "execute_result"
        }
      ],
      "source": [
        "data.isnull().sum()"
      ]
    },
    {
      "cell_type": "code",
      "execution_count": 62,
      "metadata": {
        "colab": {
          "base_uri": "https://localhost:8080/"
        },
        "id": "CQXbPzMg8Zl8",
        "outputId": "c088b752-0bb6-455d-9bf7-bfea711d50c3"
      },
      "outputs": [
        {
          "data": {
            "text/plain": [
              "['Seat No.',\n",
              " 'PH-121',\n",
              " 'HS-101',\n",
              " 'CY-105',\n",
              " 'HS-105/12',\n",
              " 'MT-111',\n",
              " 'CS-105',\n",
              " 'CS-106',\n",
              " 'EL-102',\n",
              " 'EE-119',\n",
              " 'ME-107',\n",
              " 'CS-107',\n",
              " 'HS-205/20',\n",
              " 'MT-222',\n",
              " 'EE-222',\n",
              " 'MT-224',\n",
              " 'CS-210',\n",
              " 'CS-211',\n",
              " 'CS-203',\n",
              " 'CS-214',\n",
              " 'EE-217',\n",
              " 'CS-212',\n",
              " 'CS-215',\n",
              " 'MT-331',\n",
              " 'EF-303',\n",
              " 'HS-304',\n",
              " 'CS-301',\n",
              " 'CS-302',\n",
              " 'TC-383',\n",
              " 'MT-442',\n",
              " 'EL-332',\n",
              " 'CS-318',\n",
              " 'CS-306',\n",
              " 'CS-312',\n",
              " 'CS-317',\n",
              " 'CS-403',\n",
              " 'CS-421',\n",
              " 'CS-406',\n",
              " 'CS-414',\n",
              " 'CS-419',\n",
              " 'CS-423',\n",
              " 'CS-412']"
            ]
          },
          "execution_count": 62,
          "metadata": {},
          "output_type": "execute_result"
        }
      ],
      "source": [
        "#encoding the data for categorical features\n",
        "cat_fea = [i for i in data.columns if data[i].dtype == \"O\"]\n",
        "cat_fea"
      ]
    },
    {
      "cell_type": "code",
      "execution_count": 63,
      "metadata": {
        "colab": {
          "base_uri": "https://localhost:8080/"
        },
        "id": "VXr_J3UqCwHY",
        "outputId": "c317f41d-56e6-4b55-cb8d-cd7c36fd999c"
      },
      "outputs": [
        {
          "data": {
            "text/plain": [
              "A-    112\n",
              "A     111\n",
              "B+     61\n",
              "B      57\n",
              "B-     56\n",
              "D      44\n",
              "C      33\n",
              "C+     31\n",
              "A+     22\n",
              "D+     22\n",
              "C-     19\n",
              "WU      2\n",
              "F       1\n",
              "Name: PH-121, dtype: int64"
            ]
          },
          "execution_count": 63,
          "metadata": {},
          "output_type": "execute_result"
        }
      ],
      "source": [
        "data[\"PH-121\"].value_counts()"
      ]
    },
    {
      "cell_type": "code",
      "execution_count": 64,
      "metadata": {
        "id": "n8akLUXQ592Y"
      },
      "outputs": [],
      "source": [
        "# here we are making key value pair of categorical column in fearures\n",
        "# here we are defining a function \n",
        "def encode_cat(feature):   # function will take feature \n",
        "  mapping_dic = {}         # empty dic \n",
        "  unique_val = list(data[feature].unique())    # extract particular feature from data and convert into list \n",
        "  for idx in range(len(unique_val)):      #loop will run till the len of list \n",
        "    mapping_dic[unique_val[idx]] = idx    # assign the index to the index of the list \n",
        "  return mapping_dic       # return the feature "
      ]
    },
    {
      "cell_type": "code",
      "execution_count": 65,
      "metadata": {
        "colab": {
          "base_uri": "https://localhost:8080/"
        },
        "id": "JcZHxdn07T7S",
        "outputId": "3e674107-0eb3-40fe-91b2-7ec9a8715704"
      },
      "outputs": [
        {
          "data": {
            "text/plain": [
              "13"
            ]
          },
          "execution_count": 65,
          "metadata": {},
          "output_type": "execute_result"
        }
      ],
      "source": [
        "data['CS-412'].nunique()"
      ]
    },
    {
      "cell_type": "code",
      "execution_count": 66,
      "metadata": {
        "id": "Uo-D9TJC6Rwn"
      },
      "outputs": [],
      "source": [
        "d = {'A+':4.0, 'A':4.0,'A-':3.7,'B+':3.3,'B':3.0,'B-':2.7,'C+':2.3,'C':2,'C-':1.7,'D+':1.3,'D':1.0,'F':0.0,'WU':0.0,'W':0.0}"
      ]
    },
    {
      "cell_type": "code",
      "execution_count": 67,
      "metadata": {
        "colab": {
          "base_uri": "https://localhost:8080/"
        },
        "id": "ryzBZqCjDOzU",
        "outputId": "ee4bc82b-6f15-4f73-91b4-098b772765fe"
      },
      "outputs": [
        {
          "name": "stdout",
          "output_type": "stream",
          "text": [
            "   Seat No. PH-121 HS-101 CY-105 HS-105/12 MT-111 CS-105 CS-106 EL-102 EE-119  \\\n",
            "0       NaN     B-     D+     C-         C     C-     D+      D     C-     B-   \n",
            "1       NaN      A      D     D+         D     B-      C      D      A     D+   \n",
            "2       NaN      A      B      A        B-     B+      A     B-     B+     A-   \n",
            "3       NaN      D     C+     D+         D      D     A-     D+     C-      D   \n",
            "4       NaN     A-     A-     A-        B+      A      A     A-     B+      A   \n",
            "\n",
            "   ... CS-312 CS-317 CS-403 CS-421 CS-406 CS-414 CS-419 CS-423 CS-412   CGPA  \n",
            "0  ...     C-     C-     C-     C-     A-      A     C-      B     A-  2.205  \n",
            "1  ...     D+      D      C      D     A-     B-      C      C      B  2.008  \n",
            "2  ...      B      B      A      C      A      A      A     A-      A  3.608  \n",
            "3  ...     D+      C     D+     C-     B-      B     C+     C+     C+  1.906  \n",
            "4  ...     B-     B+     B+     B-     A-      A     A-     A-      A  3.448  \n",
            "\n",
            "[5 rows x 43 columns]\n",
            "   Seat No.  PH-121 HS-101 CY-105 HS-105/12 MT-111 CS-105 CS-106 EL-102  \\\n",
            "0       NaN     2.7     D+     C-         C     C-     D+      D     C-   \n",
            "1       NaN     4.0      D     D+         D     B-      C      D      A   \n",
            "2       NaN     4.0      B      A        B-     B+      A     B-     B+   \n",
            "3       NaN     1.0     C+     D+         D      D     A-     D+     C-   \n",
            "4       NaN     3.7     A-     A-        B+      A      A     A-     B+   \n",
            "\n",
            "  EE-119  ... CS-312 CS-317 CS-403 CS-421 CS-406 CS-414 CS-419 CS-423 CS-412  \\\n",
            "0     B-  ...     C-     C-     C-     C-     A-      A     C-      B     A-   \n",
            "1     D+  ...     D+      D      C      D     A-     B-      C      C      B   \n",
            "2     A-  ...      B      B      A      C      A      A      A     A-      A   \n",
            "3      D  ...     D+      C     D+     C-     B-      B     C+     C+     C+   \n",
            "4      A  ...     B-     B+     B+     B-     A-      A     A-     A-      A   \n",
            "\n",
            "    CGPA  \n",
            "0  2.205  \n",
            "1  2.008  \n",
            "2  3.608  \n",
            "3  1.906  \n",
            "4  3.448  \n",
            "\n",
            "[5 rows x 43 columns]\n",
            "   Seat No.  PH-121  HS-101 CY-105 HS-105/12 MT-111 CS-105 CS-106 EL-102  \\\n",
            "0       NaN     2.7     1.3     C-         C     C-     D+      D     C-   \n",
            "1       NaN     4.0     1.0     D+         D     B-      C      D      A   \n",
            "2       NaN     4.0     3.0      A        B-     B+      A     B-     B+   \n",
            "3       NaN     1.0     2.3     D+         D      D     A-     D+     C-   \n",
            "4       NaN     3.7     3.7     A-        B+      A      A     A-     B+   \n",
            "\n",
            "  EE-119  ... CS-312 CS-317 CS-403 CS-421 CS-406 CS-414 CS-419 CS-423 CS-412  \\\n",
            "0     B-  ...     C-     C-     C-     C-     A-      A     C-      B     A-   \n",
            "1     D+  ...     D+      D      C      D     A-     B-      C      C      B   \n",
            "2     A-  ...      B      B      A      C      A      A      A     A-      A   \n",
            "3      D  ...     D+      C     D+     C-     B-      B     C+     C+     C+   \n",
            "4      A  ...     B-     B+     B+     B-     A-      A     A-     A-      A   \n",
            "\n",
            "    CGPA  \n",
            "0  2.205  \n",
            "1  2.008  \n",
            "2  3.608  \n",
            "3  1.906  \n",
            "4  3.448  \n",
            "\n",
            "[5 rows x 43 columns]\n",
            "   Seat No.  PH-121  HS-101  CY-105 HS-105/12 MT-111 CS-105 CS-106 EL-102  \\\n",
            "0       NaN     2.7     1.3     1.7         C     C-     D+      D     C-   \n",
            "1       NaN     4.0     1.0     1.3         D     B-      C      D      A   \n",
            "2       NaN     4.0     3.0     4.0        B-     B+      A     B-     B+   \n",
            "3       NaN     1.0     2.3     1.3         D      D     A-     D+     C-   \n",
            "4       NaN     3.7     3.7     3.7        B+      A      A     A-     B+   \n",
            "\n",
            "  EE-119  ... CS-312 CS-317 CS-403 CS-421 CS-406 CS-414 CS-419 CS-423 CS-412  \\\n",
            "0     B-  ...     C-     C-     C-     C-     A-      A     C-      B     A-   \n",
            "1     D+  ...     D+      D      C      D     A-     B-      C      C      B   \n",
            "2     A-  ...      B      B      A      C      A      A      A     A-      A   \n",
            "3      D  ...     D+      C     D+     C-     B-      B     C+     C+     C+   \n",
            "4      A  ...     B-     B+     B+     B-     A-      A     A-     A-      A   \n",
            "\n",
            "    CGPA  \n",
            "0  2.205  \n",
            "1  2.008  \n",
            "2  3.608  \n",
            "3  1.906  \n",
            "4  3.448  \n",
            "\n",
            "[5 rows x 43 columns]\n",
            "   Seat No.  PH-121  HS-101  CY-105  HS-105/12 MT-111 CS-105 CS-106 EL-102  \\\n",
            "0       NaN     2.7     1.3     1.7        2.0     C-     D+      D     C-   \n",
            "1       NaN     4.0     1.0     1.3        1.0     B-      C      D      A   \n",
            "2       NaN     4.0     3.0     4.0        2.7     B+      A     B-     B+   \n",
            "3       NaN     1.0     2.3     1.3        1.0      D     A-     D+     C-   \n",
            "4       NaN     3.7     3.7     3.7        3.3      A      A     A-     B+   \n",
            "\n",
            "  EE-119  ... CS-312 CS-317 CS-403 CS-421 CS-406 CS-414 CS-419 CS-423 CS-412  \\\n",
            "0     B-  ...     C-     C-     C-     C-     A-      A     C-      B     A-   \n",
            "1     D+  ...     D+      D      C      D     A-     B-      C      C      B   \n",
            "2     A-  ...      B      B      A      C      A      A      A     A-      A   \n",
            "3      D  ...     D+      C     D+     C-     B-      B     C+     C+     C+   \n",
            "4      A  ...     B-     B+     B+     B-     A-      A     A-     A-      A   \n",
            "\n",
            "    CGPA  \n",
            "0  2.205  \n",
            "1  2.008  \n",
            "2  3.608  \n",
            "3  1.906  \n",
            "4  3.448  \n",
            "\n",
            "[5 rows x 43 columns]\n",
            "   Seat No.  PH-121  HS-101  CY-105  HS-105/12  MT-111 CS-105 CS-106 EL-102  \\\n",
            "0       NaN     2.7     1.3     1.7        2.0     1.7     D+      D     C-   \n",
            "1       NaN     4.0     1.0     1.3        1.0     2.7      C      D      A   \n",
            "2       NaN     4.0     3.0     4.0        2.7     3.3      A     B-     B+   \n",
            "3       NaN     1.0     2.3     1.3        1.0     1.0     A-     D+     C-   \n",
            "4       NaN     3.7     3.7     3.7        3.3     4.0      A     A-     B+   \n",
            "\n",
            "  EE-119  ... CS-312 CS-317 CS-403 CS-421 CS-406 CS-414 CS-419 CS-423 CS-412  \\\n",
            "0     B-  ...     C-     C-     C-     C-     A-      A     C-      B     A-   \n",
            "1     D+  ...     D+      D      C      D     A-     B-      C      C      B   \n",
            "2     A-  ...      B      B      A      C      A      A      A     A-      A   \n",
            "3      D  ...     D+      C     D+     C-     B-      B     C+     C+     C+   \n",
            "4      A  ...     B-     B+     B+     B-     A-      A     A-     A-      A   \n",
            "\n",
            "    CGPA  \n",
            "0  2.205  \n",
            "1  2.008  \n",
            "2  3.608  \n",
            "3  1.906  \n",
            "4  3.448  \n",
            "\n",
            "[5 rows x 43 columns]\n",
            "   Seat No.  PH-121  HS-101  CY-105  HS-105/12  MT-111  CS-105 CS-106 EL-102  \\\n",
            "0       NaN     2.7     1.3     1.7        2.0     1.7     1.3      D     C-   \n",
            "1       NaN     4.0     1.0     1.3        1.0     2.7     2.0      D      A   \n",
            "2       NaN     4.0     3.0     4.0        2.7     3.3     4.0     B-     B+   \n",
            "3       NaN     1.0     2.3     1.3        1.0     1.0     3.7     D+     C-   \n",
            "4       NaN     3.7     3.7     3.7        3.3     4.0     4.0     A-     B+   \n",
            "\n",
            "  EE-119  ... CS-312 CS-317 CS-403 CS-421 CS-406 CS-414 CS-419 CS-423 CS-412  \\\n",
            "0     B-  ...     C-     C-     C-     C-     A-      A     C-      B     A-   \n",
            "1     D+  ...     D+      D      C      D     A-     B-      C      C      B   \n",
            "2     A-  ...      B      B      A      C      A      A      A     A-      A   \n",
            "3      D  ...     D+      C     D+     C-     B-      B     C+     C+     C+   \n",
            "4      A  ...     B-     B+     B+     B-     A-      A     A-     A-      A   \n",
            "\n",
            "    CGPA  \n",
            "0  2.205  \n",
            "1  2.008  \n",
            "2  3.608  \n",
            "3  1.906  \n",
            "4  3.448  \n",
            "\n",
            "[5 rows x 43 columns]\n",
            "   Seat No.  PH-121  HS-101  CY-105  HS-105/12  MT-111  CS-105  CS-106 EL-102  \\\n",
            "0       NaN     2.7     1.3     1.7        2.0     1.7     1.3     1.0     C-   \n",
            "1       NaN     4.0     1.0     1.3        1.0     2.7     2.0     1.0      A   \n",
            "2       NaN     4.0     3.0     4.0        2.7     3.3     4.0     2.7     B+   \n",
            "3       NaN     1.0     2.3     1.3        1.0     1.0     3.7     1.3     C-   \n",
            "4       NaN     3.7     3.7     3.7        3.3     4.0     4.0     3.7     B+   \n",
            "\n",
            "  EE-119  ... CS-312 CS-317 CS-403 CS-421 CS-406 CS-414 CS-419 CS-423 CS-412  \\\n",
            "0     B-  ...     C-     C-     C-     C-     A-      A     C-      B     A-   \n",
            "1     D+  ...     D+      D      C      D     A-     B-      C      C      B   \n",
            "2     A-  ...      B      B      A      C      A      A      A     A-      A   \n",
            "3      D  ...     D+      C     D+     C-     B-      B     C+     C+     C+   \n",
            "4      A  ...     B-     B+     B+     B-     A-      A     A-     A-      A   \n",
            "\n",
            "    CGPA  \n",
            "0  2.205  \n",
            "1  2.008  \n",
            "2  3.608  \n",
            "3  1.906  \n",
            "4  3.448  \n",
            "\n",
            "[5 rows x 43 columns]\n",
            "   Seat No.  PH-121  HS-101  CY-105  HS-105/12  MT-111  CS-105  CS-106  \\\n",
            "0       NaN     2.7     1.3     1.7        2.0     1.7     1.3     1.0   \n",
            "1       NaN     4.0     1.0     1.3        1.0     2.7     2.0     1.0   \n",
            "2       NaN     4.0     3.0     4.0        2.7     3.3     4.0     2.7   \n",
            "3       NaN     1.0     2.3     1.3        1.0     1.0     3.7     1.3   \n",
            "4       NaN     3.7     3.7     3.7        3.3     4.0     4.0     3.7   \n",
            "\n",
            "   EL-102 EE-119  ... CS-312 CS-317 CS-403 CS-421 CS-406 CS-414 CS-419 CS-423  \\\n",
            "0     1.7     B-  ...     C-     C-     C-     C-     A-      A     C-      B   \n",
            "1     4.0     D+  ...     D+      D      C      D     A-     B-      C      C   \n",
            "2     3.3     A-  ...      B      B      A      C      A      A      A     A-   \n",
            "3     1.7      D  ...     D+      C     D+     C-     B-      B     C+     C+   \n",
            "4     3.3      A  ...     B-     B+     B+     B-     A-      A     A-     A-   \n",
            "\n",
            "  CS-412   CGPA  \n",
            "0     A-  2.205  \n",
            "1      B  2.008  \n",
            "2      A  3.608  \n",
            "3     C+  1.906  \n",
            "4      A  3.448  \n",
            "\n",
            "[5 rows x 43 columns]\n",
            "   Seat No.  PH-121  HS-101  CY-105  HS-105/12  MT-111  CS-105  CS-106  \\\n",
            "0       NaN     2.7     1.3     1.7        2.0     1.7     1.3     1.0   \n",
            "1       NaN     4.0     1.0     1.3        1.0     2.7     2.0     1.0   \n",
            "2       NaN     4.0     3.0     4.0        2.7     3.3     4.0     2.7   \n",
            "3       NaN     1.0     2.3     1.3        1.0     1.0     3.7     1.3   \n",
            "4       NaN     3.7     3.7     3.7        3.3     4.0     4.0     3.7   \n",
            "\n",
            "   EL-102  EE-119  ... CS-312 CS-317 CS-403 CS-421 CS-406 CS-414 CS-419  \\\n",
            "0     1.7     2.7  ...     C-     C-     C-     C-     A-      A     C-   \n",
            "1     4.0     1.3  ...     D+      D      C      D     A-     B-      C   \n",
            "2     3.3     3.7  ...      B      B      A      C      A      A      A   \n",
            "3     1.7     1.0  ...     D+      C     D+     C-     B-      B     C+   \n",
            "4     3.3     4.0  ...     B-     B+     B+     B-     A-      A     A-   \n",
            "\n",
            "  CS-423 CS-412   CGPA  \n",
            "0      B     A-  2.205  \n",
            "1      C      B  2.008  \n",
            "2     A-      A  3.608  \n",
            "3     C+     C+  1.906  \n",
            "4     A-      A  3.448  \n",
            "\n",
            "[5 rows x 43 columns]\n",
            "   Seat No.  PH-121  HS-101  CY-105  HS-105/12  MT-111  CS-105  CS-106  \\\n",
            "0       NaN     2.7     1.3     1.7        2.0     1.7     1.3     1.0   \n",
            "1       NaN     4.0     1.0     1.3        1.0     2.7     2.0     1.0   \n",
            "2       NaN     4.0     3.0     4.0        2.7     3.3     4.0     2.7   \n",
            "3       NaN     1.0     2.3     1.3        1.0     1.0     3.7     1.3   \n",
            "4       NaN     3.7     3.7     3.7        3.3     4.0     4.0     3.7   \n",
            "\n",
            "   EL-102  EE-119  ...  CS-312 CS-317 CS-403 CS-421 CS-406 CS-414 CS-419  \\\n",
            "0     1.7     2.7  ...      C-     C-     C-     C-     A-      A     C-   \n",
            "1     4.0     1.3  ...      D+      D      C      D     A-     B-      C   \n",
            "2     3.3     3.7  ...       B      B      A      C      A      A      A   \n",
            "3     1.7     1.0  ...      D+      C     D+     C-     B-      B     C+   \n",
            "4     3.3     4.0  ...      B-     B+     B+     B-     A-      A     A-   \n",
            "\n",
            "  CS-423 CS-412   CGPA  \n",
            "0      B     A-  2.205  \n",
            "1      C      B  2.008  \n",
            "2     A-      A  3.608  \n",
            "3     C+     C+  1.906  \n",
            "4     A-      A  3.448  \n",
            "\n",
            "[5 rows x 43 columns]\n",
            "   Seat No.  PH-121  HS-101  CY-105  HS-105/12  MT-111  CS-105  CS-106  \\\n",
            "0       NaN     2.7     1.3     1.7        2.0     1.7     1.3     1.0   \n",
            "1       NaN     4.0     1.0     1.3        1.0     2.7     2.0     1.0   \n",
            "2       NaN     4.0     3.0     4.0        2.7     3.3     4.0     2.7   \n",
            "3       NaN     1.0     2.3     1.3        1.0     1.0     3.7     1.3   \n",
            "4       NaN     3.7     3.7     3.7        3.3     4.0     4.0     3.7   \n",
            "\n",
            "   EL-102  EE-119  ...  CS-312  CS-317 CS-403 CS-421 CS-406 CS-414 CS-419  \\\n",
            "0     1.7     2.7  ...      C-      C-     C-     C-     A-      A     C-   \n",
            "1     4.0     1.3  ...      D+       D      C      D     A-     B-      C   \n",
            "2     3.3     3.7  ...       B       B      A      C      A      A      A   \n",
            "3     1.7     1.0  ...      D+       C     D+     C-     B-      B     C+   \n",
            "4     3.3     4.0  ...      B-      B+     B+     B-     A-      A     A-   \n",
            "\n",
            "  CS-423 CS-412   CGPA  \n",
            "0      B     A-  2.205  \n",
            "1      C      B  2.008  \n",
            "2     A-      A  3.608  \n",
            "3     C+     C+  1.906  \n",
            "4     A-      A  3.448  \n",
            "\n",
            "[5 rows x 43 columns]\n",
            "   Seat No.  PH-121  HS-101  CY-105  HS-105/12  MT-111  CS-105  CS-106  \\\n",
            "0       NaN     2.7     1.3     1.7        2.0     1.7     1.3     1.0   \n",
            "1       NaN     4.0     1.0     1.3        1.0     2.7     2.0     1.0   \n",
            "2       NaN     4.0     3.0     4.0        2.7     3.3     4.0     2.7   \n",
            "3       NaN     1.0     2.3     1.3        1.0     1.0     3.7     1.3   \n",
            "4       NaN     3.7     3.7     3.7        3.3     4.0     4.0     3.7   \n",
            "\n",
            "   EL-102  EE-119  ...  CS-312  CS-317  CS-403 CS-421 CS-406 CS-414 CS-419  \\\n",
            "0     1.7     2.7  ...      C-      C-      C-     C-     A-      A     C-   \n",
            "1     4.0     1.3  ...      D+       D       C      D     A-     B-      C   \n",
            "2     3.3     3.7  ...       B       B       A      C      A      A      A   \n",
            "3     1.7     1.0  ...      D+       C      D+     C-     B-      B     C+   \n",
            "4     3.3     4.0  ...      B-      B+      B+     B-     A-      A     A-   \n",
            "\n",
            "  CS-423 CS-412   CGPA  \n",
            "0      B     A-  2.205  \n",
            "1      C      B  2.008  \n",
            "2     A-      A  3.608  \n",
            "3     C+     C+  1.906  \n",
            "4     A-      A  3.448  \n",
            "\n",
            "[5 rows x 43 columns]\n",
            "   Seat No.  PH-121  HS-101  CY-105  HS-105/12  MT-111  CS-105  CS-106  \\\n",
            "0       NaN     2.7     1.3     1.7        2.0     1.7     1.3     1.0   \n",
            "1       NaN     4.0     1.0     1.3        1.0     2.7     2.0     1.0   \n",
            "2       NaN     4.0     3.0     4.0        2.7     3.3     4.0     2.7   \n",
            "3       NaN     1.0     2.3     1.3        1.0     1.0     3.7     1.3   \n",
            "4       NaN     3.7     3.7     3.7        3.3     4.0     4.0     3.7   \n",
            "\n",
            "   EL-102  EE-119  ...  CS-312  CS-317  CS-403  CS-421 CS-406 CS-414 CS-419  \\\n",
            "0     1.7     2.7  ...      C-      C-      C-      C-     A-      A     C-   \n",
            "1     4.0     1.3  ...      D+       D       C       D     A-     B-      C   \n",
            "2     3.3     3.7  ...       B       B       A       C      A      A      A   \n",
            "3     1.7     1.0  ...      D+       C      D+      C-     B-      B     C+   \n",
            "4     3.3     4.0  ...      B-      B+      B+      B-     A-      A     A-   \n",
            "\n",
            "  CS-423 CS-412   CGPA  \n",
            "0      B     A-  2.205  \n",
            "1      C      B  2.008  \n",
            "2     A-      A  3.608  \n",
            "3     C+     C+  1.906  \n",
            "4     A-      A  3.448  \n",
            "\n",
            "[5 rows x 43 columns]\n",
            "   Seat No.  PH-121  HS-101  CY-105  HS-105/12  MT-111  CS-105  CS-106  \\\n",
            "0       NaN     2.7     1.3     1.7        2.0     1.7     1.3     1.0   \n",
            "1       NaN     4.0     1.0     1.3        1.0     2.7     2.0     1.0   \n",
            "2       NaN     4.0     3.0     4.0        2.7     3.3     4.0     2.7   \n",
            "3       NaN     1.0     2.3     1.3        1.0     1.0     3.7     1.3   \n",
            "4       NaN     3.7     3.7     3.7        3.3     4.0     4.0     3.7   \n",
            "\n",
            "   EL-102  EE-119  ...  CS-312  CS-317  CS-403  CS-421  CS-406 CS-414 CS-419  \\\n",
            "0     1.7     2.7  ...      C-      C-      C-      C-      A-      A     C-   \n",
            "1     4.0     1.3  ...      D+       D       C       D      A-     B-      C   \n",
            "2     3.3     3.7  ...       B       B       A       C       A      A      A   \n",
            "3     1.7     1.0  ...      D+       C      D+      C-      B-      B     C+   \n",
            "4     3.3     4.0  ...      B-      B+      B+      B-      A-      A     A-   \n",
            "\n",
            "  CS-423 CS-412   CGPA  \n",
            "0      B     A-  2.205  \n",
            "1      C      B  2.008  \n",
            "2     A-      A  3.608  \n",
            "3     C+     C+  1.906  \n",
            "4     A-      A  3.448  \n",
            "\n",
            "[5 rows x 43 columns]\n",
            "   Seat No.  PH-121  HS-101  CY-105  HS-105/12  MT-111  CS-105  CS-106  \\\n",
            "0       NaN     2.7     1.3     1.7        2.0     1.7     1.3     1.0   \n",
            "1       NaN     4.0     1.0     1.3        1.0     2.7     2.0     1.0   \n",
            "2       NaN     4.0     3.0     4.0        2.7     3.3     4.0     2.7   \n",
            "3       NaN     1.0     2.3     1.3        1.0     1.0     3.7     1.3   \n",
            "4       NaN     3.7     3.7     3.7        3.3     4.0     4.0     3.7   \n",
            "\n",
            "   EL-102  EE-119  ...  CS-312  CS-317  CS-403  CS-421  CS-406  CS-414 CS-419  \\\n",
            "0     1.7     2.7  ...      C-      C-      C-      C-      A-       A     C-   \n",
            "1     4.0     1.3  ...      D+       D       C       D      A-      B-      C   \n",
            "2     3.3     3.7  ...       B       B       A       C       A       A      A   \n",
            "3     1.7     1.0  ...      D+       C      D+      C-      B-       B     C+   \n",
            "4     3.3     4.0  ...      B-      B+      B+      B-      A-       A     A-   \n",
            "\n",
            "  CS-423 CS-412   CGPA  \n",
            "0      B     A-  2.205  \n",
            "1      C      B  2.008  \n",
            "2     A-      A  3.608  \n",
            "3     C+     C+  1.906  \n",
            "4     A-      A  3.448  \n",
            "\n",
            "[5 rows x 43 columns]\n",
            "   Seat No.  PH-121  HS-101  CY-105  HS-105/12  MT-111  CS-105  CS-106  \\\n",
            "0       NaN     2.7     1.3     1.7        2.0     1.7     1.3     1.0   \n",
            "1       NaN     4.0     1.0     1.3        1.0     2.7     2.0     1.0   \n",
            "2       NaN     4.0     3.0     4.0        2.7     3.3     4.0     2.7   \n",
            "3       NaN     1.0     2.3     1.3        1.0     1.0     3.7     1.3   \n",
            "4       NaN     3.7     3.7     3.7        3.3     4.0     4.0     3.7   \n",
            "\n",
            "   EL-102  EE-119  ...  CS-312  CS-317  CS-403  CS-421  CS-406  CS-414  \\\n",
            "0     1.7     2.7  ...      C-      C-      C-      C-      A-       A   \n",
            "1     4.0     1.3  ...      D+       D       C       D      A-      B-   \n",
            "2     3.3     3.7  ...       B       B       A       C       A       A   \n",
            "3     1.7     1.0  ...      D+       C      D+      C-      B-       B   \n",
            "4     3.3     4.0  ...      B-      B+      B+      B-      A-       A   \n",
            "\n",
            "   CS-419 CS-423 CS-412   CGPA  \n",
            "0      C-      B     A-  2.205  \n",
            "1       C      C      B  2.008  \n",
            "2       A     A-      A  3.608  \n",
            "3      C+     C+     C+  1.906  \n",
            "4      A-     A-      A  3.448  \n",
            "\n",
            "[5 rows x 43 columns]\n",
            "   Seat No.  PH-121  HS-101  CY-105  HS-105/12  MT-111  CS-105  CS-106  \\\n",
            "0       NaN     2.7     1.3     1.7        2.0     1.7     1.3     1.0   \n",
            "1       NaN     4.0     1.0     1.3        1.0     2.7     2.0     1.0   \n",
            "2       NaN     4.0     3.0     4.0        2.7     3.3     4.0     2.7   \n",
            "3       NaN     1.0     2.3     1.3        1.0     1.0     3.7     1.3   \n",
            "4       NaN     3.7     3.7     3.7        3.3     4.0     4.0     3.7   \n",
            "\n",
            "   EL-102  EE-119  ...  CS-312  CS-317  CS-403  CS-421  CS-406  CS-414  \\\n",
            "0     1.7     2.7  ...      C-      C-      C-      C-      A-       A   \n",
            "1     4.0     1.3  ...      D+       D       C       D      A-      B-   \n",
            "2     3.3     3.7  ...       B       B       A       C       A       A   \n",
            "3     1.7     1.0  ...      D+       C      D+      C-      B-       B   \n",
            "4     3.3     4.0  ...      B-      B+      B+      B-      A-       A   \n",
            "\n",
            "   CS-419  CS-423 CS-412   CGPA  \n",
            "0      C-       B     A-  2.205  \n",
            "1       C       C      B  2.008  \n",
            "2       A      A-      A  3.608  \n",
            "3      C+      C+     C+  1.906  \n",
            "4      A-      A-      A  3.448  \n",
            "\n",
            "[5 rows x 43 columns]\n",
            "   Seat No.  PH-121  HS-101  CY-105  HS-105/12  MT-111  CS-105  CS-106  \\\n",
            "0       NaN     2.7     1.3     1.7        2.0     1.7     1.3     1.0   \n",
            "1       NaN     4.0     1.0     1.3        1.0     2.7     2.0     1.0   \n",
            "2       NaN     4.0     3.0     4.0        2.7     3.3     4.0     2.7   \n",
            "3       NaN     1.0     2.3     1.3        1.0     1.0     3.7     1.3   \n",
            "4       NaN     3.7     3.7     3.7        3.3     4.0     4.0     3.7   \n",
            "\n",
            "   EL-102  EE-119  ...  CS-312  CS-317  CS-403  CS-421  CS-406  CS-414  \\\n",
            "0     1.7     2.7  ...      C-      C-      C-      C-      A-       A   \n",
            "1     4.0     1.3  ...      D+       D       C       D      A-      B-   \n",
            "2     3.3     3.7  ...       B       B       A       C       A       A   \n",
            "3     1.7     1.0  ...      D+       C      D+      C-      B-       B   \n",
            "4     3.3     4.0  ...      B-      B+      B+      B-      A-       A   \n",
            "\n",
            "   CS-419  CS-423  CS-412   CGPA  \n",
            "0      C-       B      A-  2.205  \n",
            "1       C       C       B  2.008  \n",
            "2       A      A-       A  3.608  \n",
            "3      C+      C+      C+  1.906  \n",
            "4      A-      A-       A  3.448  \n",
            "\n",
            "[5 rows x 43 columns]\n",
            "   Seat No.  PH-121  HS-101  CY-105  HS-105/12  MT-111  CS-105  CS-106  \\\n",
            "0       NaN     2.7     1.3     1.7        2.0     1.7     1.3     1.0   \n",
            "1       NaN     4.0     1.0     1.3        1.0     2.7     2.0     1.0   \n",
            "2       NaN     4.0     3.0     4.0        2.7     3.3     4.0     2.7   \n",
            "3       NaN     1.0     2.3     1.3        1.0     1.0     3.7     1.3   \n",
            "4       NaN     3.7     3.7     3.7        3.3     4.0     4.0     3.7   \n",
            "\n",
            "   EL-102  EE-119  ...  CS-312  CS-317  CS-403  CS-421  CS-406  CS-414  \\\n",
            "0     1.7     2.7  ...      C-      C-      C-      C-      A-       A   \n",
            "1     4.0     1.3  ...      D+       D       C       D      A-      B-   \n",
            "2     3.3     3.7  ...       B       B       A       C       A       A   \n",
            "3     1.7     1.0  ...      D+       C      D+      C-      B-       B   \n",
            "4     3.3     4.0  ...      B-      B+      B+      B-      A-       A   \n",
            "\n",
            "   CS-419  CS-423  CS-412   CGPA  \n",
            "0      C-       B      A-  2.205  \n",
            "1       C       C       B  2.008  \n",
            "2       A      A-       A  3.608  \n",
            "3      C+      C+      C+  1.906  \n",
            "4      A-      A-       A  3.448  \n",
            "\n",
            "[5 rows x 43 columns]\n",
            "   Seat No.  PH-121  HS-101  CY-105  HS-105/12  MT-111  CS-105  CS-106  \\\n",
            "0       NaN     2.7     1.3     1.7        2.0     1.7     1.3     1.0   \n",
            "1       NaN     4.0     1.0     1.3        1.0     2.7     2.0     1.0   \n",
            "2       NaN     4.0     3.0     4.0        2.7     3.3     4.0     2.7   \n",
            "3       NaN     1.0     2.3     1.3        1.0     1.0     3.7     1.3   \n",
            "4       NaN     3.7     3.7     3.7        3.3     4.0     4.0     3.7   \n",
            "\n",
            "   EL-102  EE-119  ...  CS-312  CS-317  CS-403  CS-421  CS-406  CS-414  \\\n",
            "0     1.7     2.7  ...      C-      C-      C-      C-      A-       A   \n",
            "1     4.0     1.3  ...      D+       D       C       D      A-      B-   \n",
            "2     3.3     3.7  ...       B       B       A       C       A       A   \n",
            "3     1.7     1.0  ...      D+       C      D+      C-      B-       B   \n",
            "4     3.3     4.0  ...      B-      B+      B+      B-      A-       A   \n",
            "\n",
            "   CS-419  CS-423  CS-412   CGPA  \n",
            "0      C-       B      A-  2.205  \n",
            "1       C       C       B  2.008  \n",
            "2       A      A-       A  3.608  \n",
            "3      C+      C+      C+  1.906  \n",
            "4      A-      A-       A  3.448  \n",
            "\n",
            "[5 rows x 43 columns]\n",
            "   Seat No.  PH-121  HS-101  CY-105  HS-105/12  MT-111  CS-105  CS-106  \\\n",
            "0       NaN     2.7     1.3     1.7        2.0     1.7     1.3     1.0   \n",
            "1       NaN     4.0     1.0     1.3        1.0     2.7     2.0     1.0   \n",
            "2       NaN     4.0     3.0     4.0        2.7     3.3     4.0     2.7   \n",
            "3       NaN     1.0     2.3     1.3        1.0     1.0     3.7     1.3   \n",
            "4       NaN     3.7     3.7     3.7        3.3     4.0     4.0     3.7   \n",
            "\n",
            "   EL-102  EE-119  ...  CS-312  CS-317  CS-403  CS-421  CS-406  CS-414  \\\n",
            "0     1.7     2.7  ...      C-      C-      C-      C-      A-       A   \n",
            "1     4.0     1.3  ...      D+       D       C       D      A-      B-   \n",
            "2     3.3     3.7  ...       B       B       A       C       A       A   \n",
            "3     1.7     1.0  ...      D+       C      D+      C-      B-       B   \n",
            "4     3.3     4.0  ...      B-      B+      B+      B-      A-       A   \n",
            "\n",
            "   CS-419  CS-423  CS-412   CGPA  \n",
            "0      C-       B      A-  2.205  \n",
            "1       C       C       B  2.008  \n",
            "2       A      A-       A  3.608  \n",
            "3      C+      C+      C+  1.906  \n",
            "4      A-      A-       A  3.448  \n",
            "\n",
            "[5 rows x 43 columns]\n",
            "   Seat No.  PH-121  HS-101  CY-105  HS-105/12  MT-111  CS-105  CS-106  \\\n",
            "0       NaN     2.7     1.3     1.7        2.0     1.7     1.3     1.0   \n",
            "1       NaN     4.0     1.0     1.3        1.0     2.7     2.0     1.0   \n",
            "2       NaN     4.0     3.0     4.0        2.7     3.3     4.0     2.7   \n",
            "3       NaN     1.0     2.3     1.3        1.0     1.0     3.7     1.3   \n",
            "4       NaN     3.7     3.7     3.7        3.3     4.0     4.0     3.7   \n",
            "\n",
            "   EL-102  EE-119  ...  CS-312  CS-317  CS-403  CS-421  CS-406  CS-414  \\\n",
            "0     1.7     2.7  ...      C-      C-      C-      C-      A-       A   \n",
            "1     4.0     1.3  ...      D+       D       C       D      A-      B-   \n",
            "2     3.3     3.7  ...       B       B       A       C       A       A   \n",
            "3     1.7     1.0  ...      D+       C      D+      C-      B-       B   \n",
            "4     3.3     4.0  ...      B-      B+      B+      B-      A-       A   \n",
            "\n",
            "   CS-419  CS-423  CS-412   CGPA  \n",
            "0      C-       B      A-  2.205  \n",
            "1       C       C       B  2.008  \n",
            "2       A      A-       A  3.608  \n",
            "3      C+      C+      C+  1.906  \n",
            "4      A-      A-       A  3.448  \n",
            "\n",
            "[5 rows x 43 columns]\n",
            "   Seat No.  PH-121  HS-101  CY-105  HS-105/12  MT-111  CS-105  CS-106  \\\n",
            "0       NaN     2.7     1.3     1.7        2.0     1.7     1.3     1.0   \n",
            "1       NaN     4.0     1.0     1.3        1.0     2.7     2.0     1.0   \n",
            "2       NaN     4.0     3.0     4.0        2.7     3.3     4.0     2.7   \n",
            "3       NaN     1.0     2.3     1.3        1.0     1.0     3.7     1.3   \n",
            "4       NaN     3.7     3.7     3.7        3.3     4.0     4.0     3.7   \n",
            "\n",
            "   EL-102  EE-119  ...  CS-312  CS-317  CS-403  CS-421  CS-406  CS-414  \\\n",
            "0     1.7     2.7  ...      C-      C-      C-      C-      A-       A   \n",
            "1     4.0     1.3  ...      D+       D       C       D      A-      B-   \n",
            "2     3.3     3.7  ...       B       B       A       C       A       A   \n",
            "3     1.7     1.0  ...      D+       C      D+      C-      B-       B   \n",
            "4     3.3     4.0  ...      B-      B+      B+      B-      A-       A   \n",
            "\n",
            "   CS-419  CS-423  CS-412   CGPA  \n",
            "0      C-       B      A-  2.205  \n",
            "1       C       C       B  2.008  \n",
            "2       A      A-       A  3.608  \n",
            "3      C+      C+      C+  1.906  \n",
            "4      A-      A-       A  3.448  \n",
            "\n",
            "[5 rows x 43 columns]\n",
            "   Seat No.  PH-121  HS-101  CY-105  HS-105/12  MT-111  CS-105  CS-106  \\\n",
            "0       NaN     2.7     1.3     1.7        2.0     1.7     1.3     1.0   \n",
            "1       NaN     4.0     1.0     1.3        1.0     2.7     2.0     1.0   \n",
            "2       NaN     4.0     3.0     4.0        2.7     3.3     4.0     2.7   \n",
            "3       NaN     1.0     2.3     1.3        1.0     1.0     3.7     1.3   \n",
            "4       NaN     3.7     3.7     3.7        3.3     4.0     4.0     3.7   \n",
            "\n",
            "   EL-102  EE-119  ...  CS-312  CS-317  CS-403  CS-421  CS-406  CS-414  \\\n",
            "0     1.7     2.7  ...      C-      C-      C-      C-      A-       A   \n",
            "1     4.0     1.3  ...      D+       D       C       D      A-      B-   \n",
            "2     3.3     3.7  ...       B       B       A       C       A       A   \n",
            "3     1.7     1.0  ...      D+       C      D+      C-      B-       B   \n",
            "4     3.3     4.0  ...      B-      B+      B+      B-      A-       A   \n",
            "\n",
            "   CS-419  CS-423  CS-412   CGPA  \n",
            "0      C-       B      A-  2.205  \n",
            "1       C       C       B  2.008  \n",
            "2       A      A-       A  3.608  \n",
            "3      C+      C+      C+  1.906  \n",
            "4      A-      A-       A  3.448  \n",
            "\n",
            "[5 rows x 43 columns]\n",
            "   Seat No.  PH-121  HS-101  CY-105  HS-105/12  MT-111  CS-105  CS-106  \\\n",
            "0       NaN     2.7     1.3     1.7        2.0     1.7     1.3     1.0   \n",
            "1       NaN     4.0     1.0     1.3        1.0     2.7     2.0     1.0   \n",
            "2       NaN     4.0     3.0     4.0        2.7     3.3     4.0     2.7   \n",
            "3       NaN     1.0     2.3     1.3        1.0     1.0     3.7     1.3   \n",
            "4       NaN     3.7     3.7     3.7        3.3     4.0     4.0     3.7   \n",
            "\n",
            "   EL-102  EE-119  ...  CS-312  CS-317  CS-403  CS-421  CS-406  CS-414  \\\n",
            "0     1.7     2.7  ...      C-      C-      C-      C-      A-       A   \n",
            "1     4.0     1.3  ...      D+       D       C       D      A-      B-   \n",
            "2     3.3     3.7  ...       B       B       A       C       A       A   \n",
            "3     1.7     1.0  ...      D+       C      D+      C-      B-       B   \n",
            "4     3.3     4.0  ...      B-      B+      B+      B-      A-       A   \n",
            "\n",
            "   CS-419  CS-423  CS-412   CGPA  \n",
            "0      C-       B      A-  2.205  \n",
            "1       C       C       B  2.008  \n",
            "2       A      A-       A  3.608  \n",
            "3      C+      C+      C+  1.906  \n",
            "4      A-      A-       A  3.448  \n",
            "\n",
            "[5 rows x 43 columns]\n",
            "   Seat No.  PH-121  HS-101  CY-105  HS-105/12  MT-111  CS-105  CS-106  \\\n",
            "0       NaN     2.7     1.3     1.7        2.0     1.7     1.3     1.0   \n",
            "1       NaN     4.0     1.0     1.3        1.0     2.7     2.0     1.0   \n",
            "2       NaN     4.0     3.0     4.0        2.7     3.3     4.0     2.7   \n",
            "3       NaN     1.0     2.3     1.3        1.0     1.0     3.7     1.3   \n",
            "4       NaN     3.7     3.7     3.7        3.3     4.0     4.0     3.7   \n",
            "\n",
            "   EL-102  EE-119  ...  CS-312  CS-317  CS-403  CS-421  CS-406  CS-414  \\\n",
            "0     1.7     2.7  ...      C-      C-      C-      C-      A-       A   \n",
            "1     4.0     1.3  ...      D+       D       C       D      A-      B-   \n",
            "2     3.3     3.7  ...       B       B       A       C       A       A   \n",
            "3     1.7     1.0  ...      D+       C      D+      C-      B-       B   \n",
            "4     3.3     4.0  ...      B-      B+      B+      B-      A-       A   \n",
            "\n",
            "   CS-419  CS-423  CS-412   CGPA  \n",
            "0      C-       B      A-  2.205  \n",
            "1       C       C       B  2.008  \n",
            "2       A      A-       A  3.608  \n",
            "3      C+      C+      C+  1.906  \n",
            "4      A-      A-       A  3.448  \n",
            "\n",
            "[5 rows x 43 columns]\n",
            "   Seat No.  PH-121  HS-101  CY-105  HS-105/12  MT-111  CS-105  CS-106  \\\n",
            "0       NaN     2.7     1.3     1.7        2.0     1.7     1.3     1.0   \n",
            "1       NaN     4.0     1.0     1.3        1.0     2.7     2.0     1.0   \n",
            "2       NaN     4.0     3.0     4.0        2.7     3.3     4.0     2.7   \n",
            "3       NaN     1.0     2.3     1.3        1.0     1.0     3.7     1.3   \n",
            "4       NaN     3.7     3.7     3.7        3.3     4.0     4.0     3.7   \n",
            "\n",
            "   EL-102  EE-119  ...  CS-312  CS-317  CS-403  CS-421  CS-406  CS-414  \\\n",
            "0     1.7     2.7  ...      C-      C-      C-      C-      A-       A   \n",
            "1     4.0     1.3  ...      D+       D       C       D      A-      B-   \n",
            "2     3.3     3.7  ...       B       B       A       C       A       A   \n",
            "3     1.7     1.0  ...      D+       C      D+      C-      B-       B   \n",
            "4     3.3     4.0  ...      B-      B+      B+      B-      A-       A   \n",
            "\n",
            "   CS-419  CS-423  CS-412   CGPA  \n",
            "0      C-       B      A-  2.205  \n",
            "1       C       C       B  2.008  \n",
            "2       A      A-       A  3.608  \n",
            "3      C+      C+      C+  1.906  \n",
            "4      A-      A-       A  3.448  \n",
            "\n",
            "[5 rows x 43 columns]\n",
            "   Seat No.  PH-121  HS-101  CY-105  HS-105/12  MT-111  CS-105  CS-106  \\\n",
            "0       NaN     2.7     1.3     1.7        2.0     1.7     1.3     1.0   \n",
            "1       NaN     4.0     1.0     1.3        1.0     2.7     2.0     1.0   \n",
            "2       NaN     4.0     3.0     4.0        2.7     3.3     4.0     2.7   \n",
            "3       NaN     1.0     2.3     1.3        1.0     1.0     3.7     1.3   \n",
            "4       NaN     3.7     3.7     3.7        3.3     4.0     4.0     3.7   \n",
            "\n",
            "   EL-102  EE-119  ...  CS-312  CS-317  CS-403  CS-421  CS-406  CS-414  \\\n",
            "0     1.7     2.7  ...      C-      C-      C-      C-      A-       A   \n",
            "1     4.0     1.3  ...      D+       D       C       D      A-      B-   \n",
            "2     3.3     3.7  ...       B       B       A       C       A       A   \n",
            "3     1.7     1.0  ...      D+       C      D+      C-      B-       B   \n",
            "4     3.3     4.0  ...      B-      B+      B+      B-      A-       A   \n",
            "\n",
            "   CS-419  CS-423  CS-412   CGPA  \n",
            "0      C-       B      A-  2.205  \n",
            "1       C       C       B  2.008  \n",
            "2       A      A-       A  3.608  \n",
            "3      C+      C+      C+  1.906  \n",
            "4      A-      A-       A  3.448  \n",
            "\n",
            "[5 rows x 43 columns]\n",
            "   Seat No.  PH-121  HS-101  CY-105  HS-105/12  MT-111  CS-105  CS-106  \\\n",
            "0       NaN     2.7     1.3     1.7        2.0     1.7     1.3     1.0   \n",
            "1       NaN     4.0     1.0     1.3        1.0     2.7     2.0     1.0   \n",
            "2       NaN     4.0     3.0     4.0        2.7     3.3     4.0     2.7   \n",
            "3       NaN     1.0     2.3     1.3        1.0     1.0     3.7     1.3   \n",
            "4       NaN     3.7     3.7     3.7        3.3     4.0     4.0     3.7   \n",
            "\n",
            "   EL-102  EE-119  ...  CS-312  CS-317  CS-403  CS-421  CS-406  CS-414  \\\n",
            "0     1.7     2.7  ...      C-      C-      C-      C-      A-       A   \n",
            "1     4.0     1.3  ...      D+       D       C       D      A-      B-   \n",
            "2     3.3     3.7  ...       B       B       A       C       A       A   \n",
            "3     1.7     1.0  ...      D+       C      D+      C-      B-       B   \n",
            "4     3.3     4.0  ...      B-      B+      B+      B-      A-       A   \n",
            "\n",
            "   CS-419  CS-423  CS-412   CGPA  \n",
            "0      C-       B      A-  2.205  \n",
            "1       C       C       B  2.008  \n",
            "2       A      A-       A  3.608  \n",
            "3      C+      C+      C+  1.906  \n",
            "4      A-      A-       A  3.448  \n",
            "\n",
            "[5 rows x 43 columns]\n",
            "   Seat No.  PH-121  HS-101  CY-105  HS-105/12  MT-111  CS-105  CS-106  \\\n",
            "0       NaN     2.7     1.3     1.7        2.0     1.7     1.3     1.0   \n",
            "1       NaN     4.0     1.0     1.3        1.0     2.7     2.0     1.0   \n",
            "2       NaN     4.0     3.0     4.0        2.7     3.3     4.0     2.7   \n",
            "3       NaN     1.0     2.3     1.3        1.0     1.0     3.7     1.3   \n",
            "4       NaN     3.7     3.7     3.7        3.3     4.0     4.0     3.7   \n",
            "\n",
            "   EL-102  EE-119  ...  CS-312  CS-317  CS-403  CS-421  CS-406  CS-414  \\\n",
            "0     1.7     2.7  ...      C-      C-      C-      C-      A-       A   \n",
            "1     4.0     1.3  ...      D+       D       C       D      A-      B-   \n",
            "2     3.3     3.7  ...       B       B       A       C       A       A   \n",
            "3     1.7     1.0  ...      D+       C      D+      C-      B-       B   \n",
            "4     3.3     4.0  ...      B-      B+      B+      B-      A-       A   \n",
            "\n",
            "   CS-419  CS-423  CS-412   CGPA  \n",
            "0      C-       B      A-  2.205  \n",
            "1       C       C       B  2.008  \n",
            "2       A      A-       A  3.608  \n",
            "3      C+      C+      C+  1.906  \n",
            "4      A-      A-       A  3.448  \n",
            "\n",
            "[5 rows x 43 columns]\n",
            "   Seat No.  PH-121  HS-101  CY-105  HS-105/12  MT-111  CS-105  CS-106  \\\n",
            "0       NaN     2.7     1.3     1.7        2.0     1.7     1.3     1.0   \n",
            "1       NaN     4.0     1.0     1.3        1.0     2.7     2.0     1.0   \n",
            "2       NaN     4.0     3.0     4.0        2.7     3.3     4.0     2.7   \n",
            "3       NaN     1.0     2.3     1.3        1.0     1.0     3.7     1.3   \n",
            "4       NaN     3.7     3.7     3.7        3.3     4.0     4.0     3.7   \n",
            "\n",
            "   EL-102  EE-119  ...  CS-312  CS-317  CS-403  CS-421  CS-406  CS-414  \\\n",
            "0     1.7     2.7  ...      C-      C-      C-      C-      A-       A   \n",
            "1     4.0     1.3  ...      D+       D       C       D      A-      B-   \n",
            "2     3.3     3.7  ...       B       B       A       C       A       A   \n",
            "3     1.7     1.0  ...      D+       C      D+      C-      B-       B   \n",
            "4     3.3     4.0  ...      B-      B+      B+      B-      A-       A   \n",
            "\n",
            "   CS-419  CS-423  CS-412   CGPA  \n",
            "0      C-       B      A-  2.205  \n",
            "1       C       C       B  2.008  \n",
            "2       A      A-       A  3.608  \n",
            "3      C+      C+      C+  1.906  \n",
            "4      A-      A-       A  3.448  \n",
            "\n",
            "[5 rows x 43 columns]\n",
            "   Seat No.  PH-121  HS-101  CY-105  HS-105/12  MT-111  CS-105  CS-106  \\\n",
            "0       NaN     2.7     1.3     1.7        2.0     1.7     1.3     1.0   \n",
            "1       NaN     4.0     1.0     1.3        1.0     2.7     2.0     1.0   \n",
            "2       NaN     4.0     3.0     4.0        2.7     3.3     4.0     2.7   \n",
            "3       NaN     1.0     2.3     1.3        1.0     1.0     3.7     1.3   \n",
            "4       NaN     3.7     3.7     3.7        3.3     4.0     4.0     3.7   \n",
            "\n",
            "   EL-102  EE-119  ...  CS-312  CS-317  CS-403  CS-421  CS-406  CS-414  \\\n",
            "0     1.7     2.7  ...      C-      C-      C-      C-      A-       A   \n",
            "1     4.0     1.3  ...      D+       D       C       D      A-      B-   \n",
            "2     3.3     3.7  ...       B       B       A       C       A       A   \n",
            "3     1.7     1.0  ...      D+       C      D+      C-      B-       B   \n",
            "4     3.3     4.0  ...      B-      B+      B+      B-      A-       A   \n",
            "\n",
            "   CS-419  CS-423  CS-412   CGPA  \n",
            "0      C-       B      A-  2.205  \n",
            "1       C       C       B  2.008  \n",
            "2       A      A-       A  3.608  \n",
            "3      C+      C+      C+  1.906  \n",
            "4      A-      A-       A  3.448  \n",
            "\n",
            "[5 rows x 43 columns]\n",
            "   Seat No.  PH-121  HS-101  CY-105  HS-105/12  MT-111  CS-105  CS-106  \\\n",
            "0       NaN     2.7     1.3     1.7        2.0     1.7     1.3     1.0   \n",
            "1       NaN     4.0     1.0     1.3        1.0     2.7     2.0     1.0   \n",
            "2       NaN     4.0     3.0     4.0        2.7     3.3     4.0     2.7   \n",
            "3       NaN     1.0     2.3     1.3        1.0     1.0     3.7     1.3   \n",
            "4       NaN     3.7     3.7     3.7        3.3     4.0     4.0     3.7   \n",
            "\n",
            "   EL-102  EE-119  ...  CS-312  CS-317  CS-403  CS-421  CS-406  CS-414  \\\n",
            "0     1.7     2.7  ...     1.7      C-      C-      C-      A-       A   \n",
            "1     4.0     1.3  ...     1.3       D       C       D      A-      B-   \n",
            "2     3.3     3.7  ...     3.0       B       A       C       A       A   \n",
            "3     1.7     1.0  ...     1.3       C      D+      C-      B-       B   \n",
            "4     3.3     4.0  ...     2.7      B+      B+      B-      A-       A   \n",
            "\n",
            "   CS-419  CS-423  CS-412   CGPA  \n",
            "0      C-       B      A-  2.205  \n",
            "1       C       C       B  2.008  \n",
            "2       A      A-       A  3.608  \n",
            "3      C+      C+      C+  1.906  \n",
            "4      A-      A-       A  3.448  \n",
            "\n",
            "[5 rows x 43 columns]\n",
            "   Seat No.  PH-121  HS-101  CY-105  HS-105/12  MT-111  CS-105  CS-106  \\\n",
            "0       NaN     2.7     1.3     1.7        2.0     1.7     1.3     1.0   \n",
            "1       NaN     4.0     1.0     1.3        1.0     2.7     2.0     1.0   \n",
            "2       NaN     4.0     3.0     4.0        2.7     3.3     4.0     2.7   \n",
            "3       NaN     1.0     2.3     1.3        1.0     1.0     3.7     1.3   \n",
            "4       NaN     3.7     3.7     3.7        3.3     4.0     4.0     3.7   \n",
            "\n",
            "   EL-102  EE-119  ...  CS-312  CS-317  CS-403  CS-421  CS-406  CS-414  \\\n",
            "0     1.7     2.7  ...     1.7     1.7      C-      C-      A-       A   \n",
            "1     4.0     1.3  ...     1.3     1.0       C       D      A-      B-   \n",
            "2     3.3     3.7  ...     3.0     3.0       A       C       A       A   \n",
            "3     1.7     1.0  ...     1.3     2.0      D+      C-      B-       B   \n",
            "4     3.3     4.0  ...     2.7     3.3      B+      B-      A-       A   \n",
            "\n",
            "   CS-419  CS-423  CS-412   CGPA  \n",
            "0      C-       B      A-  2.205  \n",
            "1       C       C       B  2.008  \n",
            "2       A      A-       A  3.608  \n",
            "3      C+      C+      C+  1.906  \n",
            "4      A-      A-       A  3.448  \n",
            "\n",
            "[5 rows x 43 columns]\n",
            "   Seat No.  PH-121  HS-101  CY-105  HS-105/12  MT-111  CS-105  CS-106  \\\n",
            "0       NaN     2.7     1.3     1.7        2.0     1.7     1.3     1.0   \n",
            "1       NaN     4.0     1.0     1.3        1.0     2.7     2.0     1.0   \n",
            "2       NaN     4.0     3.0     4.0        2.7     3.3     4.0     2.7   \n",
            "3       NaN     1.0     2.3     1.3        1.0     1.0     3.7     1.3   \n",
            "4       NaN     3.7     3.7     3.7        3.3     4.0     4.0     3.7   \n",
            "\n",
            "   EL-102  EE-119  ...  CS-312  CS-317  CS-403  CS-421  CS-406  CS-414  \\\n",
            "0     1.7     2.7  ...     1.7     1.7     1.7      C-      A-       A   \n",
            "1     4.0     1.3  ...     1.3     1.0     2.0       D      A-      B-   \n",
            "2     3.3     3.7  ...     3.0     3.0     4.0       C       A       A   \n",
            "3     1.7     1.0  ...     1.3     2.0     1.3      C-      B-       B   \n",
            "4     3.3     4.0  ...     2.7     3.3     3.3      B-      A-       A   \n",
            "\n",
            "   CS-419  CS-423  CS-412   CGPA  \n",
            "0      C-       B      A-  2.205  \n",
            "1       C       C       B  2.008  \n",
            "2       A      A-       A  3.608  \n",
            "3      C+      C+      C+  1.906  \n",
            "4      A-      A-       A  3.448  \n",
            "\n",
            "[5 rows x 43 columns]\n",
            "   Seat No.  PH-121  HS-101  CY-105  HS-105/12  MT-111  CS-105  CS-106  \\\n",
            "0       NaN     2.7     1.3     1.7        2.0     1.7     1.3     1.0   \n",
            "1       NaN     4.0     1.0     1.3        1.0     2.7     2.0     1.0   \n",
            "2       NaN     4.0     3.0     4.0        2.7     3.3     4.0     2.7   \n",
            "3       NaN     1.0     2.3     1.3        1.0     1.0     3.7     1.3   \n",
            "4       NaN     3.7     3.7     3.7        3.3     4.0     4.0     3.7   \n",
            "\n",
            "   EL-102  EE-119  ...  CS-312  CS-317  CS-403  CS-421  CS-406  CS-414  \\\n",
            "0     1.7     2.7  ...     1.7     1.7     1.7     1.7      A-       A   \n",
            "1     4.0     1.3  ...     1.3     1.0     2.0     1.0      A-      B-   \n",
            "2     3.3     3.7  ...     3.0     3.0     4.0     2.0       A       A   \n",
            "3     1.7     1.0  ...     1.3     2.0     1.3     1.7      B-       B   \n",
            "4     3.3     4.0  ...     2.7     3.3     3.3     2.7      A-       A   \n",
            "\n",
            "   CS-419  CS-423  CS-412   CGPA  \n",
            "0      C-       B      A-  2.205  \n",
            "1       C       C       B  2.008  \n",
            "2       A      A-       A  3.608  \n",
            "3      C+      C+      C+  1.906  \n",
            "4      A-      A-       A  3.448  \n",
            "\n",
            "[5 rows x 43 columns]\n",
            "   Seat No.  PH-121  HS-101  CY-105  HS-105/12  MT-111  CS-105  CS-106  \\\n",
            "0       NaN     2.7     1.3     1.7        2.0     1.7     1.3     1.0   \n",
            "1       NaN     4.0     1.0     1.3        1.0     2.7     2.0     1.0   \n",
            "2       NaN     4.0     3.0     4.0        2.7     3.3     4.0     2.7   \n",
            "3       NaN     1.0     2.3     1.3        1.0     1.0     3.7     1.3   \n",
            "4       NaN     3.7     3.7     3.7        3.3     4.0     4.0     3.7   \n",
            "\n",
            "   EL-102  EE-119  ...  CS-312  CS-317  CS-403  CS-421  CS-406  CS-414  \\\n",
            "0     1.7     2.7  ...     1.7     1.7     1.7     1.7     3.7       A   \n",
            "1     4.0     1.3  ...     1.3     1.0     2.0     1.0     3.7      B-   \n",
            "2     3.3     3.7  ...     3.0     3.0     4.0     2.0     4.0       A   \n",
            "3     1.7     1.0  ...     1.3     2.0     1.3     1.7     2.7       B   \n",
            "4     3.3     4.0  ...     2.7     3.3     3.3     2.7     3.7       A   \n",
            "\n",
            "   CS-419  CS-423  CS-412   CGPA  \n",
            "0      C-       B      A-  2.205  \n",
            "1       C       C       B  2.008  \n",
            "2       A      A-       A  3.608  \n",
            "3      C+      C+      C+  1.906  \n",
            "4      A-      A-       A  3.448  \n",
            "\n",
            "[5 rows x 43 columns]\n",
            "   Seat No.  PH-121  HS-101  CY-105  HS-105/12  MT-111  CS-105  CS-106  \\\n",
            "0       NaN     2.7     1.3     1.7        2.0     1.7     1.3     1.0   \n",
            "1       NaN     4.0     1.0     1.3        1.0     2.7     2.0     1.0   \n",
            "2       NaN     4.0     3.0     4.0        2.7     3.3     4.0     2.7   \n",
            "3       NaN     1.0     2.3     1.3        1.0     1.0     3.7     1.3   \n",
            "4       NaN     3.7     3.7     3.7        3.3     4.0     4.0     3.7   \n",
            "\n",
            "   EL-102  EE-119  ...  CS-312  CS-317  CS-403  CS-421  CS-406  CS-414  \\\n",
            "0     1.7     2.7  ...     1.7     1.7     1.7     1.7     3.7     4.0   \n",
            "1     4.0     1.3  ...     1.3     1.0     2.0     1.0     3.7     2.7   \n",
            "2     3.3     3.7  ...     3.0     3.0     4.0     2.0     4.0     4.0   \n",
            "3     1.7     1.0  ...     1.3     2.0     1.3     1.7     2.7     3.0   \n",
            "4     3.3     4.0  ...     2.7     3.3     3.3     2.7     3.7     4.0   \n",
            "\n",
            "   CS-419  CS-423  CS-412   CGPA  \n",
            "0      C-       B      A-  2.205  \n",
            "1       C       C       B  2.008  \n",
            "2       A      A-       A  3.608  \n",
            "3      C+      C+      C+  1.906  \n",
            "4      A-      A-       A  3.448  \n",
            "\n",
            "[5 rows x 43 columns]\n",
            "   Seat No.  PH-121  HS-101  CY-105  HS-105/12  MT-111  CS-105  CS-106  \\\n",
            "0       NaN     2.7     1.3     1.7        2.0     1.7     1.3     1.0   \n",
            "1       NaN     4.0     1.0     1.3        1.0     2.7     2.0     1.0   \n",
            "2       NaN     4.0     3.0     4.0        2.7     3.3     4.0     2.7   \n",
            "3       NaN     1.0     2.3     1.3        1.0     1.0     3.7     1.3   \n",
            "4       NaN     3.7     3.7     3.7        3.3     4.0     4.0     3.7   \n",
            "\n",
            "   EL-102  EE-119  ...  CS-312  CS-317  CS-403  CS-421  CS-406  CS-414  \\\n",
            "0     1.7     2.7  ...     1.7     1.7     1.7     1.7     3.7     4.0   \n",
            "1     4.0     1.3  ...     1.3     1.0     2.0     1.0     3.7     2.7   \n",
            "2     3.3     3.7  ...     3.0     3.0     4.0     2.0     4.0     4.0   \n",
            "3     1.7     1.0  ...     1.3     2.0     1.3     1.7     2.7     3.0   \n",
            "4     3.3     4.0  ...     2.7     3.3     3.3     2.7     3.7     4.0   \n",
            "\n",
            "   CS-419  CS-423  CS-412   CGPA  \n",
            "0     1.7       B      A-  2.205  \n",
            "1     2.0       C       B  2.008  \n",
            "2     4.0      A-       A  3.608  \n",
            "3     2.3      C+      C+  1.906  \n",
            "4     3.7      A-       A  3.448  \n",
            "\n",
            "[5 rows x 43 columns]\n",
            "   Seat No.  PH-121  HS-101  CY-105  HS-105/12  MT-111  CS-105  CS-106  \\\n",
            "0       NaN     2.7     1.3     1.7        2.0     1.7     1.3     1.0   \n",
            "1       NaN     4.0     1.0     1.3        1.0     2.7     2.0     1.0   \n",
            "2       NaN     4.0     3.0     4.0        2.7     3.3     4.0     2.7   \n",
            "3       NaN     1.0     2.3     1.3        1.0     1.0     3.7     1.3   \n",
            "4       NaN     3.7     3.7     3.7        3.3     4.0     4.0     3.7   \n",
            "\n",
            "   EL-102  EE-119  ...  CS-312  CS-317  CS-403  CS-421  CS-406  CS-414  \\\n",
            "0     1.7     2.7  ...     1.7     1.7     1.7     1.7     3.7     4.0   \n",
            "1     4.0     1.3  ...     1.3     1.0     2.0     1.0     3.7     2.7   \n",
            "2     3.3     3.7  ...     3.0     3.0     4.0     2.0     4.0     4.0   \n",
            "3     1.7     1.0  ...     1.3     2.0     1.3     1.7     2.7     3.0   \n",
            "4     3.3     4.0  ...     2.7     3.3     3.3     2.7     3.7     4.0   \n",
            "\n",
            "   CS-419  CS-423  CS-412   CGPA  \n",
            "0     1.7     3.0      A-  2.205  \n",
            "1     2.0     2.0       B  2.008  \n",
            "2     4.0     3.7       A  3.608  \n",
            "3     2.3     2.3      C+  1.906  \n",
            "4     3.7     3.7       A  3.448  \n",
            "\n",
            "[5 rows x 43 columns]\n",
            "   Seat No.  PH-121  HS-101  CY-105  HS-105/12  MT-111  CS-105  CS-106  \\\n",
            "0       NaN     2.7     1.3     1.7        2.0     1.7     1.3     1.0   \n",
            "1       NaN     4.0     1.0     1.3        1.0     2.7     2.0     1.0   \n",
            "2       NaN     4.0     3.0     4.0        2.7     3.3     4.0     2.7   \n",
            "3       NaN     1.0     2.3     1.3        1.0     1.0     3.7     1.3   \n",
            "4       NaN     3.7     3.7     3.7        3.3     4.0     4.0     3.7   \n",
            "\n",
            "   EL-102  EE-119  ...  CS-312  CS-317  CS-403  CS-421  CS-406  CS-414  \\\n",
            "0     1.7     2.7  ...     1.7     1.7     1.7     1.7     3.7     4.0   \n",
            "1     4.0     1.3  ...     1.3     1.0     2.0     1.0     3.7     2.7   \n",
            "2     3.3     3.7  ...     3.0     3.0     4.0     2.0     4.0     4.0   \n",
            "3     1.7     1.0  ...     1.3     2.0     1.3     1.7     2.7     3.0   \n",
            "4     3.3     4.0  ...     2.7     3.3     3.3     2.7     3.7     4.0   \n",
            "\n",
            "   CS-419  CS-423  CS-412   CGPA  \n",
            "0     1.7     3.0     3.7  2.205  \n",
            "1     2.0     2.0     3.0  2.008  \n",
            "2     4.0     3.7     4.0  3.608  \n",
            "3     2.3     2.3     2.3  1.906  \n",
            "4     3.7     3.7     4.0  3.448  \n",
            "\n",
            "[5 rows x 43 columns]\n"
          ]
        }
      ],
      "source": [
        "for i in cat_fea:   # we have the list of categorical features \n",
        "  data[i] = data[i].map(d)\n",
        "  print(data.head())"
      ]
    },
    {
      "cell_type": "code",
      "execution_count": 68,
      "metadata": {
        "colab": {
          "base_uri": "https://localhost:8080/",
          "height": 485
        },
        "id": "AWbpBaG4Dq43",
        "outputId": "ac2e69dd-68f8-4faf-ca36-aac372ab0774"
      },
      "outputs": [
        {
          "data": {
            "text/html": [
              "<div>\n",
              "<style scoped>\n",
              "    .dataframe tbody tr th:only-of-type {\n",
              "        vertical-align: middle;\n",
              "    }\n",
              "\n",
              "    .dataframe tbody tr th {\n",
              "        vertical-align: top;\n",
              "    }\n",
              "\n",
              "    .dataframe thead th {\n",
              "        text-align: right;\n",
              "    }\n",
              "</style>\n",
              "<table border=\"1\" class=\"dataframe\">\n",
              "  <thead>\n",
              "    <tr style=\"text-align: right;\">\n",
              "      <th></th>\n",
              "      <th>PH-121</th>\n",
              "      <th>HS-101</th>\n",
              "      <th>CY-105</th>\n",
              "      <th>HS-105/12</th>\n",
              "      <th>MT-111</th>\n",
              "      <th>CS-105</th>\n",
              "      <th>CS-106</th>\n",
              "      <th>EL-102</th>\n",
              "      <th>EE-119</th>\n",
              "      <th>ME-107</th>\n",
              "      <th>...</th>\n",
              "      <th>CS-312</th>\n",
              "      <th>CS-317</th>\n",
              "      <th>CS-403</th>\n",
              "      <th>CS-421</th>\n",
              "      <th>CS-406</th>\n",
              "      <th>CS-414</th>\n",
              "      <th>CS-419</th>\n",
              "      <th>CS-423</th>\n",
              "      <th>CS-412</th>\n",
              "      <th>CGPA</th>\n",
              "    </tr>\n",
              "  </thead>\n",
              "  <tbody>\n",
              "    <tr>\n",
              "      <th>0</th>\n",
              "      <td>2.7</td>\n",
              "      <td>1.3</td>\n",
              "      <td>1.7</td>\n",
              "      <td>2.0</td>\n",
              "      <td>1.7</td>\n",
              "      <td>1.3</td>\n",
              "      <td>1.0</td>\n",
              "      <td>1.7</td>\n",
              "      <td>2.7</td>\n",
              "      <td>1.7</td>\n",
              "      <td>...</td>\n",
              "      <td>1.7</td>\n",
              "      <td>1.7</td>\n",
              "      <td>1.7</td>\n",
              "      <td>1.7</td>\n",
              "      <td>3.7</td>\n",
              "      <td>4.0</td>\n",
              "      <td>1.7</td>\n",
              "      <td>3.0</td>\n",
              "      <td>3.7</td>\n",
              "      <td>2.205</td>\n",
              "    </tr>\n",
              "    <tr>\n",
              "      <th>1</th>\n",
              "      <td>4.0</td>\n",
              "      <td>1.0</td>\n",
              "      <td>1.3</td>\n",
              "      <td>1.0</td>\n",
              "      <td>2.7</td>\n",
              "      <td>2.0</td>\n",
              "      <td>1.0</td>\n",
              "      <td>4.0</td>\n",
              "      <td>1.3</td>\n",
              "      <td>1.0</td>\n",
              "      <td>...</td>\n",
              "      <td>1.3</td>\n",
              "      <td>1.0</td>\n",
              "      <td>2.0</td>\n",
              "      <td>1.0</td>\n",
              "      <td>3.7</td>\n",
              "      <td>2.7</td>\n",
              "      <td>2.0</td>\n",
              "      <td>2.0</td>\n",
              "      <td>3.0</td>\n",
              "      <td>2.008</td>\n",
              "    </tr>\n",
              "    <tr>\n",
              "      <th>2</th>\n",
              "      <td>4.0</td>\n",
              "      <td>3.0</td>\n",
              "      <td>4.0</td>\n",
              "      <td>2.7</td>\n",
              "      <td>3.3</td>\n",
              "      <td>4.0</td>\n",
              "      <td>2.7</td>\n",
              "      <td>3.3</td>\n",
              "      <td>3.7</td>\n",
              "      <td>3.7</td>\n",
              "      <td>...</td>\n",
              "      <td>3.0</td>\n",
              "      <td>3.0</td>\n",
              "      <td>4.0</td>\n",
              "      <td>2.0</td>\n",
              "      <td>4.0</td>\n",
              "      <td>4.0</td>\n",
              "      <td>4.0</td>\n",
              "      <td>3.7</td>\n",
              "      <td>4.0</td>\n",
              "      <td>3.608</td>\n",
              "    </tr>\n",
              "    <tr>\n",
              "      <th>3</th>\n",
              "      <td>1.0</td>\n",
              "      <td>2.3</td>\n",
              "      <td>1.3</td>\n",
              "      <td>1.0</td>\n",
              "      <td>1.0</td>\n",
              "      <td>3.7</td>\n",
              "      <td>1.3</td>\n",
              "      <td>1.7</td>\n",
              "      <td>1.0</td>\n",
              "      <td>2.3</td>\n",
              "      <td>...</td>\n",
              "      <td>1.3</td>\n",
              "      <td>2.0</td>\n",
              "      <td>1.3</td>\n",
              "      <td>1.7</td>\n",
              "      <td>2.7</td>\n",
              "      <td>3.0</td>\n",
              "      <td>2.3</td>\n",
              "      <td>2.3</td>\n",
              "      <td>2.3</td>\n",
              "      <td>1.906</td>\n",
              "    </tr>\n",
              "    <tr>\n",
              "      <th>4</th>\n",
              "      <td>3.7</td>\n",
              "      <td>3.7</td>\n",
              "      <td>3.7</td>\n",
              "      <td>3.3</td>\n",
              "      <td>4.0</td>\n",
              "      <td>4.0</td>\n",
              "      <td>3.7</td>\n",
              "      <td>3.3</td>\n",
              "      <td>4.0</td>\n",
              "      <td>3.7</td>\n",
              "      <td>...</td>\n",
              "      <td>2.7</td>\n",
              "      <td>3.3</td>\n",
              "      <td>3.3</td>\n",
              "      <td>2.7</td>\n",
              "      <td>3.7</td>\n",
              "      <td>4.0</td>\n",
              "      <td>3.7</td>\n",
              "      <td>3.7</td>\n",
              "      <td>4.0</td>\n",
              "      <td>3.448</td>\n",
              "    </tr>\n",
              "    <tr>\n",
              "      <th>...</th>\n",
              "      <td>...</td>\n",
              "      <td>...</td>\n",
              "      <td>...</td>\n",
              "      <td>...</td>\n",
              "      <td>...</td>\n",
              "      <td>...</td>\n",
              "      <td>...</td>\n",
              "      <td>...</td>\n",
              "      <td>...</td>\n",
              "      <td>...</td>\n",
              "      <td>...</td>\n",
              "      <td>...</td>\n",
              "      <td>...</td>\n",
              "      <td>...</td>\n",
              "      <td>...</td>\n",
              "      <td>...</td>\n",
              "      <td>...</td>\n",
              "      <td>...</td>\n",
              "      <td>...</td>\n",
              "      <td>...</td>\n",
              "      <td>...</td>\n",
              "    </tr>\n",
              "    <tr>\n",
              "      <th>566</th>\n",
              "      <td>3.0</td>\n",
              "      <td>4.0</td>\n",
              "      <td>4.0</td>\n",
              "      <td>3.7</td>\n",
              "      <td>4.0</td>\n",
              "      <td>4.0</td>\n",
              "      <td>3.7</td>\n",
              "      <td>3.7</td>\n",
              "      <td>4.0</td>\n",
              "      <td>3.3</td>\n",
              "      <td>...</td>\n",
              "      <td>3.7</td>\n",
              "      <td>3.7</td>\n",
              "      <td>4.0</td>\n",
              "      <td>4.0</td>\n",
              "      <td>4.0</td>\n",
              "      <td>3.3</td>\n",
              "      <td>3.3</td>\n",
              "      <td>3.0</td>\n",
              "      <td>4.0</td>\n",
              "      <td>3.798</td>\n",
              "    </tr>\n",
              "    <tr>\n",
              "      <th>567</th>\n",
              "      <td>4.0</td>\n",
              "      <td>4.0</td>\n",
              "      <td>4.0</td>\n",
              "      <td>4.0</td>\n",
              "      <td>4.0</td>\n",
              "      <td>4.0</td>\n",
              "      <td>4.0</td>\n",
              "      <td>3.7</td>\n",
              "      <td>4.0</td>\n",
              "      <td>4.0</td>\n",
              "      <td>...</td>\n",
              "      <td>3.3</td>\n",
              "      <td>3.3</td>\n",
              "      <td>4.0</td>\n",
              "      <td>4.0</td>\n",
              "      <td>3.7</td>\n",
              "      <td>3.0</td>\n",
              "      <td>3.7</td>\n",
              "      <td>2.0</td>\n",
              "      <td>3.7</td>\n",
              "      <td>3.772</td>\n",
              "    </tr>\n",
              "    <tr>\n",
              "      <th>568</th>\n",
              "      <td>3.0</td>\n",
              "      <td>4.0</td>\n",
              "      <td>3.7</td>\n",
              "      <td>3.3</td>\n",
              "      <td>4.0</td>\n",
              "      <td>4.0</td>\n",
              "      <td>4.0</td>\n",
              "      <td>4.0</td>\n",
              "      <td>4.0</td>\n",
              "      <td>3.0</td>\n",
              "      <td>...</td>\n",
              "      <td>3.7</td>\n",
              "      <td>3.0</td>\n",
              "      <td>4.0</td>\n",
              "      <td>3.3</td>\n",
              "      <td>4.0</td>\n",
              "      <td>2.0</td>\n",
              "      <td>3.3</td>\n",
              "      <td>3.7</td>\n",
              "      <td>3.7</td>\n",
              "      <td>3.470</td>\n",
              "    </tr>\n",
              "    <tr>\n",
              "      <th>569</th>\n",
              "      <td>4.0</td>\n",
              "      <td>3.3</td>\n",
              "      <td>1.0</td>\n",
              "      <td>4.0</td>\n",
              "      <td>1.0</td>\n",
              "      <td>1.3</td>\n",
              "      <td>2.7</td>\n",
              "      <td>1.7</td>\n",
              "      <td>2.7</td>\n",
              "      <td>1.7</td>\n",
              "      <td>...</td>\n",
              "      <td>1.0</td>\n",
              "      <td>3.0</td>\n",
              "      <td>3.0</td>\n",
              "      <td>1.7</td>\n",
              "      <td>1.0</td>\n",
              "      <td>2.0</td>\n",
              "      <td>3.0</td>\n",
              "      <td>2.7</td>\n",
              "      <td>2.0</td>\n",
              "      <td>2.193</td>\n",
              "    </tr>\n",
              "    <tr>\n",
              "      <th>570</th>\n",
              "      <td>2.0</td>\n",
              "      <td>1.0</td>\n",
              "      <td>1.0</td>\n",
              "      <td>2.0</td>\n",
              "      <td>2.0</td>\n",
              "      <td>1.3</td>\n",
              "      <td>3.0</td>\n",
              "      <td>2.3</td>\n",
              "      <td>2.0</td>\n",
              "      <td>1.3</td>\n",
              "      <td>...</td>\n",
              "      <td>2.3</td>\n",
              "      <td>2.0</td>\n",
              "      <td>2.7</td>\n",
              "      <td>1.0</td>\n",
              "      <td>0.0</td>\n",
              "      <td>1.7</td>\n",
              "      <td>3.3</td>\n",
              "      <td>1.0</td>\n",
              "      <td>1.7</td>\n",
              "      <td>1.753</td>\n",
              "    </tr>\n",
              "  </tbody>\n",
              "</table>\n",
              "<p>571 rows × 42 columns</p>\n",
              "</div>"
            ],
            "text/plain": [
              "     PH-121  HS-101  CY-105  HS-105/12  MT-111  CS-105  CS-106  EL-102  \\\n",
              "0       2.7     1.3     1.7        2.0     1.7     1.3     1.0     1.7   \n",
              "1       4.0     1.0     1.3        1.0     2.7     2.0     1.0     4.0   \n",
              "2       4.0     3.0     4.0        2.7     3.3     4.0     2.7     3.3   \n",
              "3       1.0     2.3     1.3        1.0     1.0     3.7     1.3     1.7   \n",
              "4       3.7     3.7     3.7        3.3     4.0     4.0     3.7     3.3   \n",
              "..      ...     ...     ...        ...     ...     ...     ...     ...   \n",
              "566     3.0     4.0     4.0        3.7     4.0     4.0     3.7     3.7   \n",
              "567     4.0     4.0     4.0        4.0     4.0     4.0     4.0     3.7   \n",
              "568     3.0     4.0     3.7        3.3     4.0     4.0     4.0     4.0   \n",
              "569     4.0     3.3     1.0        4.0     1.0     1.3     2.7     1.7   \n",
              "570     2.0     1.0     1.0        2.0     2.0     1.3     3.0     2.3   \n",
              "\n",
              "     EE-119  ME-107  ...  CS-312  CS-317  CS-403  CS-421  CS-406  CS-414  \\\n",
              "0       2.7     1.7  ...     1.7     1.7     1.7     1.7     3.7     4.0   \n",
              "1       1.3     1.0  ...     1.3     1.0     2.0     1.0     3.7     2.7   \n",
              "2       3.7     3.7  ...     3.0     3.0     4.0     2.0     4.0     4.0   \n",
              "3       1.0     2.3  ...     1.3     2.0     1.3     1.7     2.7     3.0   \n",
              "4       4.0     3.7  ...     2.7     3.3     3.3     2.7     3.7     4.0   \n",
              "..      ...     ...  ...     ...     ...     ...     ...     ...     ...   \n",
              "566     4.0     3.3  ...     3.7     3.7     4.0     4.0     4.0     3.3   \n",
              "567     4.0     4.0  ...     3.3     3.3     4.0     4.0     3.7     3.0   \n",
              "568     4.0     3.0  ...     3.7     3.0     4.0     3.3     4.0     2.0   \n",
              "569     2.7     1.7  ...     1.0     3.0     3.0     1.7     1.0     2.0   \n",
              "570     2.0     1.3  ...     2.3     2.0     2.7     1.0     0.0     1.7   \n",
              "\n",
              "     CS-419  CS-423  CS-412   CGPA  \n",
              "0       1.7     3.0     3.7  2.205  \n",
              "1       2.0     2.0     3.0  2.008  \n",
              "2       4.0     3.7     4.0  3.608  \n",
              "3       2.3     2.3     2.3  1.906  \n",
              "4       3.7     3.7     4.0  3.448  \n",
              "..      ...     ...     ...    ...  \n",
              "566     3.3     3.0     4.0  3.798  \n",
              "567     3.7     2.0     3.7  3.772  \n",
              "568     3.3     3.7     3.7  3.470  \n",
              "569     3.0     2.7     2.0  2.193  \n",
              "570     3.3     1.0     1.7  1.753  \n",
              "\n",
              "[571 rows x 42 columns]"
            ]
          },
          "execution_count": 68,
          "metadata": {},
          "output_type": "execute_result"
        }
      ],
      "source": [
        "# drop seat no \n",
        "data.drop(['Seat No.'], axis=1)"
      ]
    },
    {
      "cell_type": "code",
      "execution_count": 69,
      "metadata": {
        "id": "Tv5IMn2GDo1t"
      },
      "outputs": [],
      "source": [
        "# for year wise dataframe \n",
        "def course_per_year(year,year2=None,year3=None):\n",
        "  column =[]\n",
        "  for i in columns:\n",
        "    if i[3] == str(year) or i[3] == str(year2) or i[3]==str(year3):\n",
        "      column.append(i)\n",
        "  df = data.loc[:,column].astype('float64')\n",
        "  return df\n"
      ]
    },
    {
      "cell_type": "code",
      "execution_count": 93,
      "metadata": {},
      "outputs": [
        {
          "data": {
            "text/plain": [
              "Index(['PH-121', 'HS-101', 'CY-105', 'HS-105/12', 'MT-111', 'CS-105', 'CS-106',\n",
              "       'EL-102', 'EE-119', 'ME-107', 'CS-107'],\n",
              "      dtype='object')"
            ]
          },
          "execution_count": 93,
          "metadata": {},
          "output_type": "execute_result"
        }
      ],
      "source": [
        "#df_first.columns"
      ]
    },
    {
      "cell_type": "code",
      "execution_count": 70,
      "metadata": {
        "id": "J1i2DSSIJBSK"
      },
      "outputs": [],
      "source": [
        "# for first year dataset\n",
        "df_first = course_per_year(1)\n",
        "X = df_first.iloc[:,].values\n"
      ]
    },
    {
      "cell_type": "code",
      "execution_count": 71,
      "metadata": {
        "id": "wnBsxCoLHZ4X"
      },
      "outputs": [],
      "source": [
        "# for target\n",
        "target = data[['CGPA']]\n",
        "y = target.iloc[:].values"
      ]
    },
    {
      "cell_type": "code",
      "execution_count": 72,
      "metadata": {
        "id": "8suxLqgQK7K9"
      },
      "outputs": [],
      "source": [
        "# lets apply first model as Linear Regression\n",
        "from sklearn.linear_model import LinearRegression\n",
        "from sklearn.model_selection import train_test_split\n",
        "from sklearn.metrics import accuracy_score\n",
        "from sklearn.metrics import confusion_matrix"
      ]
    },
    {
      "cell_type": "code",
      "execution_count": 73,
      "metadata": {
        "id": "xFSlZwXSMgnt"
      },
      "outputs": [],
      "source": [
        "X_train, X_test, y_train, y_test = train_test_split(X, y, test_size=0.3, random_state=42)"
      ]
    },
    {
      "cell_type": "code",
      "execution_count": 74,
      "metadata": {
        "colab": {
          "base_uri": "https://localhost:8080/"
        },
        "id": "1CluyQj-UOIr",
        "outputId": "26757218-73fd-454b-e30f-176da3edc742"
      },
      "outputs": [
        {
          "data": {
            "text/plain": [
              "2"
            ]
          },
          "execution_count": 74,
          "metadata": {},
          "output_type": "execute_result"
        }
      ],
      "source": [
        "X_test.ndim"
      ]
    },
    {
      "cell_type": "code",
      "execution_count": 75,
      "metadata": {
        "colab": {
          "base_uri": "https://localhost:8080/"
        },
        "id": "vsdh5TMQUUEH",
        "outputId": "dc2a0925-fa37-4e02-c543-932713da855a"
      },
      "outputs": [
        {
          "data": {
            "text/plain": [
              "2"
            ]
          },
          "execution_count": 75,
          "metadata": {},
          "output_type": "execute_result"
        }
      ],
      "source": [
        "y_test.ndim"
      ]
    },
    {
      "cell_type": "code",
      "execution_count": 76,
      "metadata": {
        "id": "fiJ3gh2-Mshv"
      },
      "outputs": [],
      "source": [
        "reg = LinearRegression()"
      ]
    },
    {
      "cell_type": "code",
      "execution_count": 77,
      "metadata": {
        "colab": {
          "base_uri": "https://localhost:8080/"
        },
        "id": "SW-i7mQOVu-A",
        "outputId": "f7945b9c-6f53-4910-85c4-d2bcee2714ae"
      },
      "outputs": [
        {
          "data": {
            "text/plain": [
              "LinearRegression()"
            ]
          },
          "execution_count": 77,
          "metadata": {},
          "output_type": "execute_result"
        }
      ],
      "source": [
        "reg.fit(X_train, y_train)"
      ]
    },
    {
      "cell_type": "code",
      "execution_count": 78,
      "metadata": {
        "colab": {
          "base_uri": "https://localhost:8080/"
        },
        "id": "jz5fZtyKM12J",
        "outputId": "3cd261e3-aff9-4172-dce5-32692b40c6ae"
      },
      "outputs": [
        {
          "data": {
            "text/plain": [
              "0.8423624670689657"
            ]
          },
          "execution_count": 78,
          "metadata": {},
          "output_type": "execute_result"
        }
      ],
      "source": [
        "reg.score(X_train, y_train)"
      ]
    },
    {
      "cell_type": "code",
      "execution_count": 79,
      "metadata": {
        "colab": {
          "base_uri": "https://localhost:8080/"
        },
        "id": "unaJTt98M5I5",
        "outputId": "17e1447e-5cc1-47b3-cf4c-a374aabf444c"
      },
      "outputs": [
        {
          "name": "stdout",
          "output_type": "stream",
          "text": [
            "reg.coef_ [[0.0441697  0.06855306 0.0497035  0.05364371 0.13661076 0.04481916\n",
            "  0.11226231 0.09157395 0.08289264 0.12357499 0.04516272]]\n",
            "reg.intercept_ [0.45756043]\n"
          ]
        }
      ],
      "source": [
        "print('reg.coef_',reg.coef_)\n",
        "print('reg.intercept_',reg.intercept_)"
      ]
    },
    {
      "cell_type": "code",
      "execution_count": 80,
      "metadata": {
        "colab": {
          "base_uri": "https://localhost:8080/"
        },
        "id": "q-2-ftYKQual",
        "outputId": "608c7733-6224-47d8-c2b0-5245a48b14e2"
      },
      "outputs": [
        {
          "data": {
            "text/plain": [
              "array([3.3, 3. , 4. , 3.7, 4. , 3.3, 3.7, 4. , 3.7, 3. , 3.3])"
            ]
          },
          "execution_count": 80,
          "metadata": {},
          "output_type": "execute_result"
        }
      ],
      "source": [
        "X_test[5]"
      ]
    },
    {
      "cell_type": "code",
      "execution_count": 81,
      "metadata": {},
      "outputs": [
        {
          "data": {
            "text/plain": [
              "array([1.992])"
            ]
          },
          "execution_count": 81,
          "metadata": {},
          "output_type": "execute_result"
        }
      ],
      "source": [
        "y_test[0]"
      ]
    },
    {
      "cell_type": "code",
      "execution_count": 82,
      "metadata": {},
      "outputs": [],
      "source": [
        "import pickle"
      ]
    },
    {
      "cell_type": "code",
      "execution_count": 83,
      "metadata": {},
      "outputs": [],
      "source": [
        "pickle.dump(reg, open('first_gpa.pkl', 'wb'))"
      ]
    },
    {
      "cell_type": "code",
      "execution_count": 84,
      "metadata": {},
      "outputs": [
        {
          "data": {
            "text/plain": [
              "array([[2.25539619]])"
            ]
          },
          "execution_count": 84,
          "metadata": {},
          "output_type": "execute_result"
        }
      ],
      "source": [
        "mod = pickle.load(open('first_gpa.pkl', 'rb'))\n",
        "mod.predict((np.array([2. , 4. , 4. , 1.7, 1.3, 2.3, 2.7, 2. , 1.7, 1.3, 1.7]).reshape(1,-1)))"
      ]
    },
    {
      "cell_type": "code",
      "execution_count": 85,
      "metadata": {
        "id": "Y4SbRxy2Z79x"
      },
      "outputs": [],
      "source": [
        "X_test[np.isnan(X_test)] = 0"
      ]
    },
    {
      "cell_type": "code",
      "execution_count": 86,
      "metadata": {
        "id": "WrUKwxviO4pY"
      },
      "outputs": [],
      "source": [
        "y_pred = reg.predict(X_test)"
      ]
    },
    {
      "cell_type": "code",
      "execution_count": 87,
      "metadata": {},
      "outputs": [
        {
          "name": "stdout",
          "output_type": "stream",
          "text": [
            "Requirement already satisfied: matplotlib in c:\\users\\a.zee computers\\appdata\\local\\programs\\python\\python39\\lib\\site-packages (3.5.2)\n",
            "Requirement already satisfied: fonttools>=4.22.0 in c:\\users\\a.zee computers\\appdata\\local\\programs\\python\\python39\\lib\\site-packages (from matplotlib) (4.34.3)\n",
            "Requirement already satisfied: packaging>=20.0 in c:\\users\\a.zee computers\\appdata\\local\\programs\\python\\python39\\lib\\site-packages (from matplotlib) (21.3)\n",
            "Requirement already satisfied: kiwisolver>=1.0.1 in c:\\users\\a.zee computers\\appdata\\local\\programs\\python\\python39\\lib\\site-packages (from matplotlib) (1.4.3)\n",
            "Requirement already satisfied: cycler>=0.10 in c:\\users\\a.zee computers\\appdata\\local\\programs\\python\\python39\\lib\\site-packages (from matplotlib) (0.11.0)\n",
            "Requirement already satisfied: python-dateutil>=2.7 in c:\\users\\a.zee computers\\appdata\\local\\programs\\python\\python39\\lib\\site-packages (from matplotlib) (2.8.2)\n",
            "Requirement already satisfied: pillow>=6.2.0 in c:\\users\\a.zee computers\\appdata\\local\\programs\\python\\python39\\lib\\site-packages (from matplotlib) (8.3.2)\n",
            "Requirement already satisfied: numpy>=1.17 in c:\\users\\a.zee computers\\appdata\\local\\programs\\python\\python39\\lib\\site-packages (from matplotlib) (1.21.4)\n",
            "Requirement already satisfied: pyparsing>=2.2.1 in c:\\users\\a.zee computers\\appdata\\local\\programs\\python\\python39\\lib\\site-packages (from matplotlib) (2.4.7)\n",
            "Requirement already satisfied: six>=1.5 in c:\\users\\a.zee computers\\appdata\\local\\programs\\python\\python39\\lib\\site-packages (from python-dateutil>=2.7->matplotlib) (1.16.0)\n",
            "Note: you may need to restart the kernel to use updated packages.\n"
          ]
        },
        {
          "name": "stderr",
          "output_type": "stream",
          "text": [
            "WARNING: Ignoring invalid distribution -jango (c:\\users\\a.zee computers\\appdata\\local\\programs\\python\\python39\\lib\\site-packages)\n",
            "WARNING: Ignoring invalid distribution -jango (c:\\users\\a.zee computers\\appdata\\local\\programs\\python\\python39\\lib\\site-packages)\n",
            "WARNING: Ignoring invalid distribution -jango (c:\\users\\a.zee computers\\appdata\\local\\programs\\python\\python39\\lib\\site-packages)\n",
            "WARNING: Ignoring invalid distribution -jango (c:\\users\\a.zee computers\\appdata\\local\\programs\\python\\python39\\lib\\site-packages)\n",
            "WARNING: Ignoring invalid distribution -jango (c:\\users\\a.zee computers\\appdata\\local\\programs\\python\\python39\\lib\\site-packages)\n",
            "WARNING: Ignoring invalid distribution -jango (c:\\users\\a.zee computers\\appdata\\local\\programs\\python\\python39\\lib\\site-packages)\n",
            "WARNING: You are using pip version 22.0.4; however, version 22.1.2 is available.\n",
            "You should consider upgrading via the 'c:\\Users\\A.ZEE COMPUTERS\\AppData\\Local\\Programs\\Python\\Python39\\python.exe -m pip install --upgrade pip' command.\n"
          ]
        }
      ],
      "source": [
        "#pip install matplotlib"
      ]
    },
    {
      "cell_type": "code",
      "execution_count": 88,
      "metadata": {
        "id": "lIX51XMqNJcd"
      },
      "outputs": [],
      "source": [
        "import matplotlib.pyplot as plt\n",
        "from sklearn.metrics import mean_squared_error, r2_score"
      ]
    },
    {
      "cell_type": "code",
      "execution_count": 89,
      "metadata": {
        "colab": {
          "base_uri": "https://localhost:8080/"
        },
        "id": "0RkkYE1u0dkn",
        "outputId": "8e3c5bb2-3c42-4c21-c6b6-a3965da26a35"
      },
      "outputs": [
        {
          "name": "stdout",
          "output_type": "stream",
          "text": [
            "Coefficients:\n",
            " [[0.0441697  0.06855306 0.0497035  0.05364371 0.13661076 0.04481916\n",
            "  0.11226231 0.09157395 0.08289264 0.12357499 0.04516272]]\n",
            "Intercept:\n",
            " [0.45756043]\n",
            "Mean squared error: 0.06\n",
            "Variance score: 0.81\n"
          ]
        }
      ],
      "source": [
        "#coef_ and intercept_ are coefficients and intercepts resp. for our model\n",
        "print(\"Coefficients:\\n\",reg.coef_)\n",
        "print(\"Intercept:\\n\",reg.intercept_)\n",
        "\n",
        "# The mean squared error\n",
        "print(\"Mean squared error: %.2f\"\n",
        "      % mean_squared_error(y_test, y_pred))\n",
        "\n",
        "# Explained variance score: 1 is perfect prediction\n",
        "print('Variance score: %.2f' % r2_score(y_test, y_pred))"
      ]
    },
    {
      "cell_type": "code",
      "execution_count": 34,
      "metadata": {
        "colab": {
          "base_uri": "https://localhost:8080/"
        },
        "id": "LDYTMJ8V1stO",
        "outputId": "c42ddd73-3f16-4e82-a05c-c81f3c8b6229"
      },
      "outputs": [
        {
          "name": "stdout",
          "output_type": "stream",
          "text": [
            "Coefficients:\n",
            " [[ 0.05541668  0.06705055  0.03276974  0.02873467  0.0371754   0.05961067\n",
            "   0.08136935  0.03529867  0.04787958  0.05082139  0.05408169  0.0668205\n",
            "  -0.00281148 -0.00027835  0.0824843   0.10762294  0.01583569 -0.00400802\n",
            "   0.06780834  0.02404805  0.00714161  0.0199633 ]]\n",
            "Intercept:\n",
            " [0.19230752]\n",
            "Mean squared error: 0.03\n",
            "Variance score: 0.92\n"
          ]
        }
      ],
      "source": [
        "# forSecond Year\n",
        "df_first = course_per_year(1,2)\n",
        "X = df_first.iloc[:,].values\n",
        "# for target\n",
        "target = data[['CGPA']]\n",
        "y = target.iloc[:].values\n",
        "X_train, X_test, y_train, y_test = train_test_split(X, y, test_size=0.3, random_state=42)\n",
        "reg = LinearRegression()\n",
        "X_test[np.isnan(X_test)] = 0\n",
        "X_train[np.isnan(X_train)] = 0\n",
        "reg.fit(X_train, y_train)\n",
        "y_pred = reg.predict(X_test)\n",
        "\n",
        "#coef_ and intercept_ are coefficients and intercepts resp. for our model\n",
        "print(\"Coefficients:\\n\",reg.coef_)\n",
        "print(\"Intercept:\\n\",reg.intercept_)\n",
        "\n",
        "# The mean squared error\n",
        "print(\"Mean squared error: %.2f\"\n",
        "      % mean_squared_error(y_test, y_pred))\n",
        "\n",
        "# Explained variance score: 1 is perfect prediction\n",
        "print('Variance score: %.2f' % r2_score(y_test, y_pred))\n",
        "\n"
      ]
    },
    {
      "cell_type": "markdown",
      "metadata": {
        "id": "6h_uAMHA5xxb"
      },
      "source": [
        "Here we got 92% accuracy"
      ]
    },
    {
      "cell_type": "code",
      "execution_count": 35,
      "metadata": {},
      "outputs": [
        {
          "data": {
            "text/plain": [
              "array([2.3, 3.7, 3.3, 2.7, 2. , 3.7, 3.3, 1.7, 2. , 1.7, 3.7, 2. , 1.3,\n",
              "       4. , 1.3, 3.3, 1.3, 3. , 3.3, 2. , 3.3, 2. ])"
            ]
          },
          "execution_count": 35,
          "metadata": {},
          "output_type": "execute_result"
        }
      ],
      "source": [
        "X_test[6]"
      ]
    },
    {
      "cell_type": "code",
      "execution_count": null,
      "metadata": {},
      "outputs": [],
      "source": [
        "import pickle"
      ]
    },
    {
      "cell_type": "code",
      "execution_count": 38,
      "metadata": {
        "colab": {
          "base_uri": "https://localhost:8080/"
        },
        "id": "na5rpfbM7Cab",
        "outputId": "f38e27bf-679e-43f2-9ed0-e4c86d2d84ba"
      },
      "outputs": [
        {
          "data": {
            "text/plain": [
              "(172, 1)"
            ]
          },
          "execution_count": 38,
          "metadata": {},
          "output_type": "execute_result"
        }
      ],
      "source": [
        "y_test.shape"
      ]
    },
    {
      "cell_type": "code",
      "execution_count": 39,
      "metadata": {
        "id": "DPuGWn9N7A8W"
      },
      "outputs": [],
      "source": [
        "x = X_test[:,1]\n"
      ]
    },
    {
      "cell_type": "code",
      "execution_count": 40,
      "metadata": {
        "colab": {
          "base_uri": "https://localhost:8080/",
          "height": 295
        },
        "id": "WfyBfxNQ6WNT",
        "outputId": "df681a39-3ddb-4774-db18-9ac092411386"
      },
      "outputs": [
        {
          "data": {
            "image/png": "[encoded data removed]",
            "text/plain": [
              "<Figure size 432x288 with 1 Axes>"
            ]
          },
          "metadata": {
            "needs_background": "light"
          },
          "output_type": "display_data"
        }
      ],
      "source": [
        "#Plotting the graph for test dataset\n",
        "plt.scatter(x, y_test, color = 'red')\n",
        "plt.plot(x, y_pred, color = 'blue')\n",
        "plt.title('CGPA Vs Course Grades (Test set)')\n",
        "plt.xlabel('Course Grades')\n",
        "plt.ylabel('CGPA')\n",
        "plt.show()"
      ]
    },
    {
      "cell_type": "markdown",
      "metadata": {
        "id": "5mmWyhmr56Cw"
      },
      "source": [
        "### Another ML Algorithm"
      ]
    },
    {
      "cell_type": "code",
      "execution_count": 41,
      "metadata": {
        "id": "tPLl0Sg64K0-"
      },
      "outputs": [],
      "source": [
        "import xgboost as xgb\n",
        "from sklearn.model_selection import RepeatedKFold\n",
        "from sklearn.model_selection import cross_val_score"
      ]
    },
    {
      "cell_type": "code",
      "execution_count": 42,
      "metadata": {
        "id": "X8lxrqmT8h9X"
      },
      "outputs": [],
      "source": [
        "model = xgb.XGBRegressor(n_estimators=1000, max_depth=7, eta=0.1, subsample=0.7, colsample_bytree=0.8)"
      ]
    },
    {
      "cell_type": "code",
      "execution_count": 43,
      "metadata": {
        "id": "xpkTxQt-8h3r"
      },
      "outputs": [],
      "source": [
        "# define model evaluation method\n",
        "cv = RepeatedKFold(n_splits=10, n_repeats=3, random_state=1)\n",
        "# evaluate model\n",
        "scores = cross_val_score(model, X_train, y_train, scoring='neg_mean_absolute_error', cv=cv, n_jobs=-1)"
      ]
    },
    {
      "cell_type": "code",
      "execution_count": 44,
      "metadata": {
        "colab": {
          "base_uri": "https://localhost:8080/"
        },
        "id": "ZwcSsEVo8hpR",
        "outputId": "052ea212-8b7a-4e5a-cd4e-2c1164ffccca"
      },
      "outputs": [
        {
          "name": "stdout",
          "output_type": "stream",
          "text": [
            "Mean MAE: -0.132 (0.025)\n"
          ]
        }
      ],
      "source": [
        "# force scores to be positive\n",
        "#scores = absolute(scores)\n",
        "print('Mean MAE: %.3f (%.3f)' % (scores.mean(), scores.std()) )"
      ]
    },
    {
      "cell_type": "code",
      "execution_count": 45,
      "metadata": {
        "colab": {
          "base_uri": "https://localhost:8080/"
        },
        "id": "VFv_jOk9ChBi",
        "outputId": "45a6d857-c75d-41ad-ffd1-e291b8dad148"
      },
      "outputs": [
        {
          "data": {
            "text/plain": [
              "XGBRegressor(base_score=0.5, booster='gbtree', callbacks=None,\n",
              "             colsample_bylevel=1, colsample_bynode=1, colsample_bytree=1,\n",
              "             early_stopping_rounds=None, enable_categorical=False,\n",
              "             eval_metric=None, gamma=0, gpu_id=-1, grow_policy='depthwise',\n",
              "             importance_type=None, interaction_constraints='',\n",
              "             learning_rate=0.300000012, max_bin=256, max_cat_to_onehot=4,\n",
              "             max_delta_step=0, max_depth=6, max_leaves=0, min_child_weight=1,\n",
              "             missing=nan, monotone_constraints='()', n_estimators=100, n_jobs=0,\n",
              "             num_parallel_tree=1, predictor='auto', random_state=0, reg_alpha=0,\n",
              "             reg_lambda=1, ...)"
            ]
          },
          "execution_count": 45,
          "metadata": {},
          "output_type": "execute_result"
        }
      ],
      "source": [
        "# define model\n",
        "model = xgb.XGBRegressor()\n",
        "# fit model\n",
        "model.fit(X_train, y_train)"
      ]
    },
    {
      "cell_type": "code",
      "execution_count": 46,
      "metadata": {
        "id": "8e9Cin0BCLpI"
      },
      "outputs": [],
      "source": [
        "# make a prediction\n",
        "yhat = model.predict(X_test)\n",
        "#yhat = yhat.reshape(-1,1)\n",
        "# summarize prediction\n",
        "#print('Predicted: %.3f' % yhat)"
      ]
    },
    {
      "cell_type": "code",
      "execution_count": 47,
      "metadata": {
        "colab": {
          "base_uri": "https://localhost:8080/"
        },
        "id": "PyBEY6Y88hmi",
        "outputId": "ebdf9be2-a60b-4254-e511-c274d5a507e1"
      },
      "outputs": [
        {
          "data": {
            "text/plain": [
              "array([2.728081 , 3.5071352, 2.5146515, 2.1702225, 3.8335922, 3.4073117,\n",
              "       2.9522018, 2.373146 , 2.1387784, 2.8776672, 3.4424398, 2.945673 ,\n",
              "       3.7147505, 2.475877 , 3.864846 , 2.2924404, 2.3536227, 3.7125587,\n",
              "       1.8297178, 2.5583928, 2.2030997, 3.753627 , 2.4238598, 2.654416 ,\n",
              "       3.0881886, 3.2145648, 3.0773604, 2.462127 , 3.3167787, 3.2686734,\n",
              "       2.669479 , 2.6326623, 3.404696 , 3.4913538, 3.4346764, 3.3357747,\n",
              "       2.6143858, 3.899639 , 2.7692392, 1.8094636, 3.555522 , 3.460362 ,\n",
              "       3.5433095, 3.6476026, 3.193616 , 2.2343946, 2.1752677, 2.947691 ,\n",
              "       3.2268336, 3.721289 , 3.265567 , 3.3459575, 3.2475133, 3.5445647,\n",
              "       3.3025632, 2.9722722, 3.741551 , 3.7703114, 3.7080326, 2.6889703,\n",
              "       3.6030974, 3.5464516, 3.854346 , 3.5374687, 3.0074096, 3.2309911,\n",
              "       3.541591 , 3.1820188, 3.244995 , 2.5182104, 3.5431252, 3.2520998,\n",
              "       2.814068 , 3.477313 , 3.9105847, 3.5786452, 3.3971062, 2.159141 ,\n",
              "       3.8007386, 2.5242357, 2.4798958, 3.160899 , 1.7746338, 2.6515694,\n",
              "       3.7910013, 3.7456532, 3.4751918, 2.9461346, 2.5596302, 1.908556 ,\n",
              "       2.9411266, 3.2293315, 2.7401214, 2.696825 , 2.1071289, 3.6332533,\n",
              "       3.8032124, 3.4162915, 2.9958885, 2.922441 , 3.4893942, 3.044578 ,\n",
              "       3.0420394, 2.8156774, 3.3525457, 3.6568513, 2.7417264, 2.6805592,\n",
              "       2.7914906, 2.8135943, 2.4707723, 3.4661982, 3.6229522, 3.6069126,\n",
              "       2.8552685, 3.635706 , 3.8104062, 2.9606993, 1.6518284, 2.5576696,\n",
              "       3.0716317, 1.6447779, 3.0231407, 2.5625265, 3.0193074, 2.9473662,\n",
              "       1.8680453, 3.044427 , 3.4078572, 3.3513646, 2.165872 , 3.0141547,\n",
              "       3.6760197, 3.0301566, 1.8778458, 2.852654 , 2.7960517, 3.462284 ,\n",
              "       2.1835349, 2.6061666, 3.0438802, 3.4078867, 3.655266 , 3.2001543,\n",
              "       3.9588034, 2.753752 , 2.8081977, 2.9835362, 3.1024513, 3.4023411,\n",
              "       3.9333255, 2.980072 , 3.1641319, 1.909485 , 3.7601733, 3.3145673,\n",
              "       3.3924813, 2.9669228, 2.0883038, 3.3881598, 3.3189142, 3.4883704,\n",
              "       2.751761 , 3.4232235, 2.225424 , 2.1699855, 2.8216605, 3.4596784,\n",
              "       2.019589 , 3.5013323, 3.8858523, 2.832641 ], dtype=float32)"
            ]
          },
          "execution_count": 47,
          "metadata": {},
          "output_type": "execute_result"
        }
      ],
      "source": [
        "yhat"
      ]
    },
    {
      "cell_type": "code",
      "execution_count": 48,
      "metadata": {
        "id": "u-T7sii08hkJ"
      },
      "outputs": [],
      "source": [
        "from sklearn.metrics import accuracy_score"
      ]
    },
    {
      "cell_type": "markdown",
      "metadata": {
        "id": "H7rN5h9V55bE"
      },
      "source": []
    },
    {
      "cell_type": "code",
      "execution_count": 49,
      "metadata": {
        "colab": {
          "base_uri": "https://localhost:8080/"
        },
        "id": "94PPmXuzD2Pm",
        "outputId": "f6ff8969-ca4d-44cf-c555-581623966b4b"
      },
      "outputs": [
        {
          "data": {
            "text/plain": [
              "0.9223873831914721"
            ]
          },
          "execution_count": 49,
          "metadata": {},
          "output_type": "execute_result"
        }
      ],
      "source": [
        "r2_score(y_test, yhat)"
      ]
    },
    {
      "cell_type": "code",
      "execution_count": 50,
      "metadata": {
        "id": "-dEAo5meD9vU"
      },
      "outputs": [],
      "source": [
        "import pickle\n",
        "pickle.dump(model, open('iri.pkl', 'wb'))"
      ]
    },
    {
      "cell_type": "code",
      "execution_count": 51,
      "metadata": {},
      "outputs": [],
      "source": [
        "model=pickle.load(open('iri.pkl','rb'))"
      ]
    },
    {
      "cell_type": "code",
      "execution_count": 52,
      "metadata": {},
      "outputs": [
        {
          "data": {
            "text/plain": [
              "array([3.3, 3. , 4. , 3.7, 4. , 3.3, 3.7, 4. , 3.7, 3. , 3.3, 3.7, 2. ,\n",
              "       2.3, 4. , 3.7, 3.3, 3.3, 3. , 3.3, 3.7, 3.7])"
            ]
          },
          "execution_count": 52,
          "metadata": {},
          "output_type": "execute_result"
        }
      ],
      "source": [
        "X_test[5]"
      ]
    },
    {
      "cell_type": "code",
      "execution_count": 55,
      "metadata": {},
      "outputs": [
        {
          "data": {
            "text/plain": [
              "array([3.476])"
            ]
          },
          "execution_count": 55,
          "metadata": {},
          "output_type": "execute_result"
        }
      ],
      "source": [
        "y_test[5]"
      ]
    },
    {
      "cell_type": "code",
      "execution_count": 54,
      "metadata": {},
      "outputs": [
        {
          "data": {
            "text/plain": [
              "array([3.4073117], dtype=float32)"
            ]
          },
          "execution_count": 54,
          "metadata": {},
          "output_type": "execute_result"
        }
      ],
      "source": [
        "model.predict(np.array([3.3, 3. , 4. , 3.7, 4. , 3.3, 3.7, 4. , 3.7, 3. , 3.3, 3.7, 2. ,\n",
        "       2.3, 4. , 3.7, 3.3, 3.3, 3. , 3.3, 3.7, 3.7]).reshape(1,-1))"
      ]
    },
    {
      "cell_type": "code",
      "execution_count": null,
      "metadata": {},
      "outputs": [],
      "source": []
    }
  ],
  "metadata": {
    "colab": {
      "collapsed_sections": [],
      "name": "CEP.ipynb",
      "provenance": []
    },
    "kernelspec": {
      "display_name": "Python 3.9.13 64-bit",
      "language": "python",
      "name": "python3"
    },
    "language_info": {
      "codemirror_mode": {
        "name": "ipython",
        "version": 3
      },
      "file_extension": ".py",
      "mimetype": "text/x-python",
      "name": "python",
      "nbconvert_exporter": "python",
      "pygments_lexer": "ipython3",
      "version": "3.9.13"
    },
    "vscode": {
      "interpreter": {
        "hash": "908103245f4c8c2f753f5bad5bb0386a2c73eca3e8272f3bb708fd11e91e3ce7"
      }
    }
  },
  "nbformat": 4,
  "nbformat_minor": 0
}
